{
  "nbformat": 4,
  "nbformat_minor": 0,
  "metadata": {
    "colab": {
      "name": "Python_assignment_2.ipynb",
      "provenance": [],
      "collapsed_sections": [],
      "authorship_tag": "ABX9TyNfCAmAdMfUESZiL6vDlXFC",
      "include_colab_link": true
    },
    "kernelspec": {
      "name": "python3",
      "display_name": "Python 3"
    }
  },
  "cells": [
    {
      "cell_type": "markdown",
      "metadata": {
        "id": "view-in-github",
        "colab_type": "text"
      },
      "source": [
        "<a href=\"https://colab.research.google.com/github/pck196/Python_Assignment/blob/master/Python_assignment_2.ipynb\" target=\"_parent\"><img src=\"https://colab.research.google.com/assets/colab-badge.svg\" alt=\"Open In Colab\"/></a>"
      ]
    },
    {
      "cell_type": "code",
      "metadata": {
        "id": "9CrdzVM0cZp_",
        "colab_type": "code",
        "outputId": "960f5200-b3ce-40bb-affb-e8e320ee68ed",
        "colab": {
          "base_uri": "https://localhost:8080/",
          "height": 146
        }
      },
      "source": [
        "#Importing pandas, numpy, matplotlib and seaborn\n",
        "!pip3 install pandas --upgrade\n",
        "import numpy as np\n",
        "import pandas as pd\n",
        "import matplotlib.pyplot as plt\n",
        "import seaborn as sns"
      ],
      "execution_count": 1,
      "outputs": [
        {
          "output_type": "stream",
          "text": [
            "Requirement already up-to-date: pandas in /usr/local/lib/python3.6/dist-packages (1.0.3)\n",
            "Requirement already satisfied, skipping upgrade: python-dateutil>=2.6.1 in /usr/local/lib/python3.6/dist-packages (from pandas) (2.8.1)\n",
            "Requirement already satisfied, skipping upgrade: pytz>=2017.2 in /usr/local/lib/python3.6/dist-packages (from pandas) (2018.9)\n",
            "Requirement already satisfied, skipping upgrade: numpy>=1.13.3 in /usr/local/lib/python3.6/dist-packages (from pandas) (1.18.3)\n",
            "Requirement already satisfied, skipping upgrade: six>=1.5 in /usr/local/lib/python3.6/dist-packages (from python-dateutil>=2.6.1->pandas) (1.12.0)\n"
          ],
          "name": "stdout"
        },
        {
          "output_type": "stream",
          "text": [
            "/usr/local/lib/python3.6/dist-packages/statsmodels/tools/_testing.py:19: FutureWarning: pandas.util.testing is deprecated. Use the functions in the public API at pandas.testing instead.\n",
            "  import pandas.util.testing as tm\n"
          ],
          "name": "stderr"
        }
      ]
    },
    {
      "cell_type": "code",
      "metadata": {
        "id": "eU3sXG1TdJO8",
        "colab_type": "code",
        "outputId": "356025b8-d714-4fe6-ac59-2f2d509423cc",
        "colab": {
          "base_uri": "https://localhost:8080/",
          "height": 72
        }
      },
      "source": [
        "#Checking panda version\n",
        "print(np.__version__)\n",
        "print(pd.__version__)\n",
        "print(sns.__version__)"
      ],
      "execution_count": 2,
      "outputs": [
        {
          "output_type": "stream",
          "text": [
            "1.18.3\n",
            "1.0.3\n",
            "0.10.1\n"
          ],
          "name": "stdout"
        }
      ]
    },
    {
      "cell_type": "code",
      "metadata": {
        "id": "JcsjWGNFdPJH",
        "colab_type": "code",
        "outputId": "0cdbdd1d-ae13-4a83-969a-0c2b9324a776",
        "colab": {
          "base_uri": "https://localhost:8080/",
          "height": 206
        }
      },
      "source": [
        "#Importing data file\n",
        "df=pd.read_csv(\"https://github.com/pck196/Python_Assignment/raw/master/Playstore_Analysis_Data_Set.csv\")\n",
        "df.head()"
      ],
      "execution_count": 3,
      "outputs": [
        {
          "output_type": "execute_result",
          "data": {
            "text/html": [
              "<div>\n",
              "<style scoped>\n",
              "    .dataframe tbody tr th:only-of-type {\n",
              "        vertical-align: middle;\n",
              "    }\n",
              "\n",
              "    .dataframe tbody tr th {\n",
              "        vertical-align: top;\n",
              "    }\n",
              "\n",
              "    .dataframe thead th {\n",
              "        text-align: right;\n",
              "    }\n",
              "</style>\n",
              "<table border=\"1\" class=\"dataframe\">\n",
              "  <thead>\n",
              "    <tr style=\"text-align: right;\">\n",
              "      <th></th>\n",
              "      <th>App</th>\n",
              "      <th>Category</th>\n",
              "      <th>Rating</th>\n",
              "      <th>Reviews</th>\n",
              "      <th>Size</th>\n",
              "      <th>Installs</th>\n",
              "      <th>Type</th>\n",
              "      <th>Price</th>\n",
              "      <th>Content Rating</th>\n",
              "      <th>Genres</th>\n",
              "      <th>Last Updated</th>\n",
              "      <th>Current Ver</th>\n",
              "      <th>Android Ver</th>\n",
              "    </tr>\n",
              "  </thead>\n",
              "  <tbody>\n",
              "    <tr>\n",
              "      <th>0</th>\n",
              "      <td>Photo Editor &amp; Candy Camera &amp; Grid &amp; ScrapBook</td>\n",
              "      <td>ART_AND_DESIGN</td>\n",
              "      <td>4.1</td>\n",
              "      <td>159</td>\n",
              "      <td>19000.0</td>\n",
              "      <td>10,000+</td>\n",
              "      <td>Free</td>\n",
              "      <td>0</td>\n",
              "      <td>Everyone</td>\n",
              "      <td>Art &amp; Design</td>\n",
              "      <td>January 7, 2018</td>\n",
              "      <td>1.0.0</td>\n",
              "      <td>4.0.3 and up</td>\n",
              "    </tr>\n",
              "    <tr>\n",
              "      <th>1</th>\n",
              "      <td>Coloring book moana</td>\n",
              "      <td>ART_AND_DESIGN</td>\n",
              "      <td>3.9</td>\n",
              "      <td>967</td>\n",
              "      <td>14000.0</td>\n",
              "      <td>500,000+</td>\n",
              "      <td>Free</td>\n",
              "      <td>0</td>\n",
              "      <td>Everyone</td>\n",
              "      <td>Art &amp; Design;Pretend Play</td>\n",
              "      <td>January 15, 2018</td>\n",
              "      <td>2.0.0</td>\n",
              "      <td>4.0.3 and up</td>\n",
              "    </tr>\n",
              "    <tr>\n",
              "      <th>2</th>\n",
              "      <td>U Launcher Lite – FREE Live Cool Themes, Hide ...</td>\n",
              "      <td>ART_AND_DESIGN</td>\n",
              "      <td>4.7</td>\n",
              "      <td>87510</td>\n",
              "      <td>8700.0</td>\n",
              "      <td>5,000,000+</td>\n",
              "      <td>Free</td>\n",
              "      <td>0</td>\n",
              "      <td>Everyone</td>\n",
              "      <td>Art &amp; Design</td>\n",
              "      <td>August 1, 2018</td>\n",
              "      <td>1.2.4</td>\n",
              "      <td>4.0.3 and up</td>\n",
              "    </tr>\n",
              "    <tr>\n",
              "      <th>3</th>\n",
              "      <td>Sketch - Draw &amp; Paint</td>\n",
              "      <td>ART_AND_DESIGN</td>\n",
              "      <td>4.5</td>\n",
              "      <td>215644</td>\n",
              "      <td>25000.0</td>\n",
              "      <td>50,000,000+</td>\n",
              "      <td>Free</td>\n",
              "      <td>0</td>\n",
              "      <td>Teen</td>\n",
              "      <td>Art &amp; Design</td>\n",
              "      <td>June 8, 2018</td>\n",
              "      <td>Varies with device</td>\n",
              "      <td>4.2 and up</td>\n",
              "    </tr>\n",
              "    <tr>\n",
              "      <th>4</th>\n",
              "      <td>Pixel Draw - Number Art Coloring Book</td>\n",
              "      <td>ART_AND_DESIGN</td>\n",
              "      <td>4.3</td>\n",
              "      <td>967</td>\n",
              "      <td>2800.0</td>\n",
              "      <td>100,000+</td>\n",
              "      <td>Free</td>\n",
              "      <td>0</td>\n",
              "      <td>Everyone</td>\n",
              "      <td>Art &amp; Design;Creativity</td>\n",
              "      <td>June 20, 2018</td>\n",
              "      <td>1.1</td>\n",
              "      <td>4.4 and up</td>\n",
              "    </tr>\n",
              "  </tbody>\n",
              "</table>\n",
              "</div>"
            ],
            "text/plain": [
              "                                                 App  ...   Android Ver\n",
              "0     Photo Editor & Candy Camera & Grid & ScrapBook  ...  4.0.3 and up\n",
              "1                                Coloring book moana  ...  4.0.3 and up\n",
              "2  U Launcher Lite – FREE Live Cool Themes, Hide ...  ...  4.0.3 and up\n",
              "3                              Sketch - Draw & Paint  ...    4.2 and up\n",
              "4              Pixel Draw - Number Art Coloring Book  ...    4.4 and up\n",
              "\n",
              "[5 rows x 13 columns]"
            ]
          },
          "metadata": {
            "tags": []
          },
          "execution_count": 3
        }
      ]
    },
    {
      "cell_type": "code",
      "metadata": {
        "id": "6vWKKmsheEWw",
        "colab_type": "code",
        "outputId": "1d8007ac-4a6b-4a0f-be56-8630eae983d1",
        "colab": {
          "base_uri": "https://localhost:8080/",
          "height": 387
        }
      },
      "source": [
        "#Getting information on the data set\n",
        "df.info()"
      ],
      "execution_count": 4,
      "outputs": [
        {
          "output_type": "stream",
          "text": [
            "<class 'pandas.core.frame.DataFrame'>\n",
            "RangeIndex: 10841 entries, 0 to 10840\n",
            "Data columns (total 13 columns):\n",
            " #   Column          Non-Null Count  Dtype  \n",
            "---  ------          --------------  -----  \n",
            " 0   App             10841 non-null  object \n",
            " 1   Category        10841 non-null  object \n",
            " 2   Rating          9367 non-null   float64\n",
            " 3   Reviews         10841 non-null  object \n",
            " 4   Size            10841 non-null  float64\n",
            " 5   Installs        10841 non-null  object \n",
            " 6   Type            10840 non-null  object \n",
            " 7   Price           10841 non-null  object \n",
            " 8   Content Rating  10840 non-null  object \n",
            " 9   Genres          10841 non-null  object \n",
            " 10  Last Updated    10841 non-null  object \n",
            " 11  Current Ver     10833 non-null  object \n",
            " 12  Android Ver     10838 non-null  object \n",
            "dtypes: float64(2), object(11)\n",
            "memory usage: 1.1+ MB\n"
          ],
          "name": "stdout"
        }
      ]
    },
    {
      "cell_type": "code",
      "metadata": {
        "id": "-tnJLag0eWdE",
        "colab_type": "code",
        "outputId": "faf908cc-0a84-413d-ac54-3ace5301c69c",
        "colab": {
          "base_uri": "https://localhost:8080/",
          "height": 276
        }
      },
      "source": [
        "#Finding empty values in table\n",
        "df.isnull().sum()"
      ],
      "execution_count": 5,
      "outputs": [
        {
          "output_type": "execute_result",
          "data": {
            "text/plain": [
              "App                  0\n",
              "Category             0\n",
              "Rating            1474\n",
              "Reviews              0\n",
              "Size                 0\n",
              "Installs             0\n",
              "Type                 1\n",
              "Price                0\n",
              "Content Rating       1\n",
              "Genres               0\n",
              "Last Updated         0\n",
              "Current Ver          8\n",
              "Android Ver          3\n",
              "dtype: int64"
            ]
          },
          "metadata": {
            "tags": []
          },
          "execution_count": 5
        }
      ]
    },
    {
      "cell_type": "markdown",
      "metadata": {
        "id": "HTCRId8Oh-JQ",
        "colab_type": "text"
      },
      "source": [
        "# **Tasks**"
      ]
    },
    {
      "cell_type": "markdown",
      "metadata": {
        "id": "yXNktZaGiFtE",
        "colab_type": "text"
      },
      "source": [
        "1. Data clean up – Missing value treatment."
      ]
    },
    {
      "cell_type": "markdown",
      "metadata": {
        "id": "m-54Y4S-iOza",
        "colab_type": "text"
      },
      "source": [
        "a. Drop records where rating is missing since rating is our target/study variable."
      ]
    },
    {
      "cell_type": "code",
      "metadata": {
        "id": "Fhz5tbV-fh55",
        "colab_type": "code",
        "colab": {}
      },
      "source": [
        "#Deleting unwanted rows.\n",
        "df.dropna(axis=0, how='any', subset=['Rating'], inplace = True)"
      ],
      "execution_count": 0,
      "outputs": []
    },
    {
      "cell_type": "code",
      "metadata": {
        "id": "oEb4XXU0gkxM",
        "colab_type": "code",
        "outputId": "749054bd-fc27-46bb-ff44-8ef819410b13",
        "colab": {
          "base_uri": "https://localhost:8080/",
          "height": 276
        }
      },
      "source": [
        "#Checking if thier are any null values left.\n",
        "df.isnull().sum()"
      ],
      "execution_count": 7,
      "outputs": [
        {
          "output_type": "execute_result",
          "data": {
            "text/plain": [
              "App               0\n",
              "Category          0\n",
              "Rating            0\n",
              "Reviews           0\n",
              "Size              0\n",
              "Installs          0\n",
              "Type              0\n",
              "Price             0\n",
              "Content Rating    1\n",
              "Genres            0\n",
              "Last Updated      0\n",
              "Current Ver       4\n",
              "Android Ver       3\n",
              "dtype: int64"
            ]
          },
          "metadata": {
            "tags": []
          },
          "execution_count": 7
        }
      ]
    },
    {
      "cell_type": "markdown",
      "metadata": {
        "id": "X0BkbdG5jkHI",
        "colab_type": "text"
      },
      "source": [
        "-Their are no null values left in rating."
      ]
    },
    {
      "cell_type": "markdown",
      "metadata": {
        "id": "Gftkhybuj9J7",
        "colab_type": "text"
      },
      "source": [
        "b. Check the null values for the Android Ver column.\n",
        "\n",
        "> i. Are all 3 records having the same problem?"
      ]
    },
    {
      "cell_type": "code",
      "metadata": {
        "id": "aMHQL0YBjs9C",
        "colab_type": "code",
        "outputId": "0790a028-c3f3-4b7e-9498-160524243d4d",
        "colab": {
          "base_uri": "https://localhost:8080/",
          "height": 144
        }
      },
      "source": [
        "df.loc[df['Android Ver'].isnull()]"
      ],
      "execution_count": 8,
      "outputs": [
        {
          "output_type": "execute_result",
          "data": {
            "text/html": [
              "<div>\n",
              "<style scoped>\n",
              "    .dataframe tbody tr th:only-of-type {\n",
              "        vertical-align: middle;\n",
              "    }\n",
              "\n",
              "    .dataframe tbody tr th {\n",
              "        vertical-align: top;\n",
              "    }\n",
              "\n",
              "    .dataframe thead th {\n",
              "        text-align: right;\n",
              "    }\n",
              "</style>\n",
              "<table border=\"1\" class=\"dataframe\">\n",
              "  <thead>\n",
              "    <tr style=\"text-align: right;\">\n",
              "      <th></th>\n",
              "      <th>App</th>\n",
              "      <th>Category</th>\n",
              "      <th>Rating</th>\n",
              "      <th>Reviews</th>\n",
              "      <th>Size</th>\n",
              "      <th>Installs</th>\n",
              "      <th>Type</th>\n",
              "      <th>Price</th>\n",
              "      <th>Content Rating</th>\n",
              "      <th>Genres</th>\n",
              "      <th>Last Updated</th>\n",
              "      <th>Current Ver</th>\n",
              "      <th>Android Ver</th>\n",
              "    </tr>\n",
              "  </thead>\n",
              "  <tbody>\n",
              "    <tr>\n",
              "      <th>4453</th>\n",
              "      <td>[substratum] Vacuum: P</td>\n",
              "      <td>PERSONALIZATION</td>\n",
              "      <td>4.4</td>\n",
              "      <td>230</td>\n",
              "      <td>11000.000000</td>\n",
              "      <td>1,000+</td>\n",
              "      <td>Paid</td>\n",
              "      <td>$1.49</td>\n",
              "      <td>Everyone</td>\n",
              "      <td>Personalization</td>\n",
              "      <td>July 20, 2018</td>\n",
              "      <td>4.4</td>\n",
              "      <td>NaN</td>\n",
              "    </tr>\n",
              "    <tr>\n",
              "      <th>4490</th>\n",
              "      <td>Pi Dark [substratum]</td>\n",
              "      <td>PERSONALIZATION</td>\n",
              "      <td>4.5</td>\n",
              "      <td>189</td>\n",
              "      <td>2100.000000</td>\n",
              "      <td>10,000+</td>\n",
              "      <td>Free</td>\n",
              "      <td>0</td>\n",
              "      <td>Everyone</td>\n",
              "      <td>Personalization</td>\n",
              "      <td>March 27, 2018</td>\n",
              "      <td>1.1</td>\n",
              "      <td>NaN</td>\n",
              "    </tr>\n",
              "    <tr>\n",
              "      <th>10472</th>\n",
              "      <td>Life Made WI-Fi Touchscreen Photo Frame</td>\n",
              "      <td>1.9</td>\n",
              "      <td>19.0</td>\n",
              "      <td>3.0M</td>\n",
              "      <td>21516.529524</td>\n",
              "      <td>Free</td>\n",
              "      <td>0</td>\n",
              "      <td>Everyone</td>\n",
              "      <td>NaN</td>\n",
              "      <td>February 11, 2018</td>\n",
              "      <td>1.0.19</td>\n",
              "      <td>4.0 and up</td>\n",
              "      <td>NaN</td>\n",
              "    </tr>\n",
              "  </tbody>\n",
              "</table>\n",
              "</div>"
            ],
            "text/plain": [
              "                                           App  ... Android Ver\n",
              "4453                    [substratum] Vacuum: P  ...         NaN\n",
              "4490                      Pi Dark [substratum]  ...         NaN\n",
              "10472  Life Made WI-Fi Touchscreen Photo Frame  ...         NaN\n",
              "\n",
              "[3 rows x 13 columns]"
            ]
          },
          "metadata": {
            "tags": []
          },
          "execution_count": 8
        }
      ]
    },
    {
      "cell_type": "markdown",
      "metadata": {
        "id": "T25d05YQmLNM",
        "colab_type": "text"
      },
      "source": [
        "-Yes, all three records are having the same problem."
      ]
    },
    {
      "cell_type": "markdown",
      "metadata": {
        "id": "TlnSIg29mhQC",
        "colab_type": "text"
      },
      "source": [
        "> ii. Drop the 3rd record i.e. record for “Life Made WIFI …”"
      ]
    },
    {
      "cell_type": "code",
      "metadata": {
        "id": "hEz4kIuLmcLu",
        "colab_type": "code",
        "outputId": "89c3de4b-2c73-41be-833f-f11d6217eaf6",
        "colab": {
          "base_uri": "https://localhost:8080/",
          "height": 112
        }
      },
      "source": [
        "df.drop([10472], inplace=True)\n",
        "df.loc[df['Android Ver'].isnull()]"
      ],
      "execution_count": 9,
      "outputs": [
        {
          "output_type": "execute_result",
          "data": {
            "text/html": [
              "<div>\n",
              "<style scoped>\n",
              "    .dataframe tbody tr th:only-of-type {\n",
              "        vertical-align: middle;\n",
              "    }\n",
              "\n",
              "    .dataframe tbody tr th {\n",
              "        vertical-align: top;\n",
              "    }\n",
              "\n",
              "    .dataframe thead th {\n",
              "        text-align: right;\n",
              "    }\n",
              "</style>\n",
              "<table border=\"1\" class=\"dataframe\">\n",
              "  <thead>\n",
              "    <tr style=\"text-align: right;\">\n",
              "      <th></th>\n",
              "      <th>App</th>\n",
              "      <th>Category</th>\n",
              "      <th>Rating</th>\n",
              "      <th>Reviews</th>\n",
              "      <th>Size</th>\n",
              "      <th>Installs</th>\n",
              "      <th>Type</th>\n",
              "      <th>Price</th>\n",
              "      <th>Content Rating</th>\n",
              "      <th>Genres</th>\n",
              "      <th>Last Updated</th>\n",
              "      <th>Current Ver</th>\n",
              "      <th>Android Ver</th>\n",
              "    </tr>\n",
              "  </thead>\n",
              "  <tbody>\n",
              "    <tr>\n",
              "      <th>4453</th>\n",
              "      <td>[substratum] Vacuum: P</td>\n",
              "      <td>PERSONALIZATION</td>\n",
              "      <td>4.4</td>\n",
              "      <td>230</td>\n",
              "      <td>11000.0</td>\n",
              "      <td>1,000+</td>\n",
              "      <td>Paid</td>\n",
              "      <td>$1.49</td>\n",
              "      <td>Everyone</td>\n",
              "      <td>Personalization</td>\n",
              "      <td>July 20, 2018</td>\n",
              "      <td>4.4</td>\n",
              "      <td>NaN</td>\n",
              "    </tr>\n",
              "    <tr>\n",
              "      <th>4490</th>\n",
              "      <td>Pi Dark [substratum]</td>\n",
              "      <td>PERSONALIZATION</td>\n",
              "      <td>4.5</td>\n",
              "      <td>189</td>\n",
              "      <td>2100.0</td>\n",
              "      <td>10,000+</td>\n",
              "      <td>Free</td>\n",
              "      <td>0</td>\n",
              "      <td>Everyone</td>\n",
              "      <td>Personalization</td>\n",
              "      <td>March 27, 2018</td>\n",
              "      <td>1.1</td>\n",
              "      <td>NaN</td>\n",
              "    </tr>\n",
              "  </tbody>\n",
              "</table>\n",
              "</div>"
            ],
            "text/plain": [
              "                         App         Category  ...  Current Ver Android Ver\n",
              "4453  [substratum] Vacuum: P  PERSONALIZATION  ...          4.4         NaN\n",
              "4490    Pi Dark [substratum]  PERSONALIZATION  ...          1.1         NaN\n",
              "\n",
              "[2 rows x 13 columns]"
            ]
          },
          "metadata": {
            "tags": []
          },
          "execution_count": 9
        }
      ]
    },
    {
      "cell_type": "markdown",
      "metadata": {
        "id": "_FgzDUTvnYjx",
        "colab_type": "text"
      },
      "source": [
        "> iii. Replace remaining missing values with the mode."
      ]
    },
    {
      "cell_type": "code",
      "metadata": {
        "id": "cC2fflD3newd",
        "colab_type": "code",
        "outputId": "f9be8847-4378-4285-c277-b26da25b3569",
        "colab": {
          "base_uri": "https://localhost:8080/",
          "height": 49
        }
      },
      "source": [
        "df['Android Ver'].fillna(df['Android Ver'].mode()[0], inplace=True)\n",
        "df.loc[df['Android Ver'].isnull()]"
      ],
      "execution_count": 10,
      "outputs": [
        {
          "output_type": "execute_result",
          "data": {
            "text/html": [
              "<div>\n",
              "<style scoped>\n",
              "    .dataframe tbody tr th:only-of-type {\n",
              "        vertical-align: middle;\n",
              "    }\n",
              "\n",
              "    .dataframe tbody tr th {\n",
              "        vertical-align: top;\n",
              "    }\n",
              "\n",
              "    .dataframe thead th {\n",
              "        text-align: right;\n",
              "    }\n",
              "</style>\n",
              "<table border=\"1\" class=\"dataframe\">\n",
              "  <thead>\n",
              "    <tr style=\"text-align: right;\">\n",
              "      <th></th>\n",
              "      <th>App</th>\n",
              "      <th>Category</th>\n",
              "      <th>Rating</th>\n",
              "      <th>Reviews</th>\n",
              "      <th>Size</th>\n",
              "      <th>Installs</th>\n",
              "      <th>Type</th>\n",
              "      <th>Price</th>\n",
              "      <th>Content Rating</th>\n",
              "      <th>Genres</th>\n",
              "      <th>Last Updated</th>\n",
              "      <th>Current Ver</th>\n",
              "      <th>Android Ver</th>\n",
              "    </tr>\n",
              "  </thead>\n",
              "  <tbody>\n",
              "  </tbody>\n",
              "</table>\n",
              "</div>"
            ],
            "text/plain": [
              "Empty DataFrame\n",
              "Columns: [App, Category, Rating, Reviews, Size, Installs, Type, Price, Content Rating, Genres, Last Updated, Current Ver, Android Ver]\n",
              "Index: []"
            ]
          },
          "metadata": {
            "tags": []
          },
          "execution_count": 10
        }
      ]
    },
    {
      "cell_type": "markdown",
      "metadata": {
        "id": "FWqOTdgRsDrw",
        "colab_type": "text"
      },
      "source": [
        "c. Current ver – replace with most common value."
      ]
    },
    {
      "cell_type": "code",
      "metadata": {
        "id": "5ynEihZssXiX",
        "colab_type": "code",
        "outputId": "955cf352-715e-46d4-999c-6b8e4c555bf4",
        "colab": {
          "base_uri": "https://localhost:8080/",
          "height": 49
        }
      },
      "source": [
        "df['Current Ver'].fillna(df['Current Ver'].mode()[0], inplace=True)\n",
        "df.loc[df['Current Ver'].isnull()]"
      ],
      "execution_count": 11,
      "outputs": [
        {
          "output_type": "execute_result",
          "data": {
            "text/html": [
              "<div>\n",
              "<style scoped>\n",
              "    .dataframe tbody tr th:only-of-type {\n",
              "        vertical-align: middle;\n",
              "    }\n",
              "\n",
              "    .dataframe tbody tr th {\n",
              "        vertical-align: top;\n",
              "    }\n",
              "\n",
              "    .dataframe thead th {\n",
              "        text-align: right;\n",
              "    }\n",
              "</style>\n",
              "<table border=\"1\" class=\"dataframe\">\n",
              "  <thead>\n",
              "    <tr style=\"text-align: right;\">\n",
              "      <th></th>\n",
              "      <th>App</th>\n",
              "      <th>Category</th>\n",
              "      <th>Rating</th>\n",
              "      <th>Reviews</th>\n",
              "      <th>Size</th>\n",
              "      <th>Installs</th>\n",
              "      <th>Type</th>\n",
              "      <th>Price</th>\n",
              "      <th>Content Rating</th>\n",
              "      <th>Genres</th>\n",
              "      <th>Last Updated</th>\n",
              "      <th>Current Ver</th>\n",
              "      <th>Android Ver</th>\n",
              "    </tr>\n",
              "  </thead>\n",
              "  <tbody>\n",
              "  </tbody>\n",
              "</table>\n",
              "</div>"
            ],
            "text/plain": [
              "Empty DataFrame\n",
              "Columns: [App, Category, Rating, Reviews, Size, Installs, Type, Price, Content Rating, Genres, Last Updated, Current Ver, Android Ver]\n",
              "Index: []"
            ]
          },
          "metadata": {
            "tags": []
          },
          "execution_count": 11
        }
      ]
    },
    {
      "cell_type": "markdown",
      "metadata": {
        "id": "Hzr15jgit2cr",
        "colab_type": "text"
      },
      "source": [
        "2. Data clean up – correcting the data types."
      ]
    },
    {
      "cell_type": "markdown",
      "metadata": {
        "id": "nfVcw1VcuGFU",
        "colab_type": "text"
      },
      "source": [
        "a. Which all variables need to be brought to numeric types?"
      ]
    },
    {
      "cell_type": "code",
      "metadata": {
        "id": "ChZbVYi4t9Qd",
        "colab_type": "code",
        "outputId": "a0ebe974-a559-4d4a-af3a-dc59c6a204d0",
        "colab": {
          "base_uri": "https://localhost:8080/",
          "height": 206
        }
      },
      "source": [
        "df.head()"
      ],
      "execution_count": 12,
      "outputs": [
        {
          "output_type": "execute_result",
          "data": {
            "text/html": [
              "<div>\n",
              "<style scoped>\n",
              "    .dataframe tbody tr th:only-of-type {\n",
              "        vertical-align: middle;\n",
              "    }\n",
              "\n",
              "    .dataframe tbody tr th {\n",
              "        vertical-align: top;\n",
              "    }\n",
              "\n",
              "    .dataframe thead th {\n",
              "        text-align: right;\n",
              "    }\n",
              "</style>\n",
              "<table border=\"1\" class=\"dataframe\">\n",
              "  <thead>\n",
              "    <tr style=\"text-align: right;\">\n",
              "      <th></th>\n",
              "      <th>App</th>\n",
              "      <th>Category</th>\n",
              "      <th>Rating</th>\n",
              "      <th>Reviews</th>\n",
              "      <th>Size</th>\n",
              "      <th>Installs</th>\n",
              "      <th>Type</th>\n",
              "      <th>Price</th>\n",
              "      <th>Content Rating</th>\n",
              "      <th>Genres</th>\n",
              "      <th>Last Updated</th>\n",
              "      <th>Current Ver</th>\n",
              "      <th>Android Ver</th>\n",
              "    </tr>\n",
              "  </thead>\n",
              "  <tbody>\n",
              "    <tr>\n",
              "      <th>0</th>\n",
              "      <td>Photo Editor &amp; Candy Camera &amp; Grid &amp; ScrapBook</td>\n",
              "      <td>ART_AND_DESIGN</td>\n",
              "      <td>4.1</td>\n",
              "      <td>159</td>\n",
              "      <td>19000.0</td>\n",
              "      <td>10,000+</td>\n",
              "      <td>Free</td>\n",
              "      <td>0</td>\n",
              "      <td>Everyone</td>\n",
              "      <td>Art &amp; Design</td>\n",
              "      <td>January 7, 2018</td>\n",
              "      <td>1.0.0</td>\n",
              "      <td>4.0.3 and up</td>\n",
              "    </tr>\n",
              "    <tr>\n",
              "      <th>1</th>\n",
              "      <td>Coloring book moana</td>\n",
              "      <td>ART_AND_DESIGN</td>\n",
              "      <td>3.9</td>\n",
              "      <td>967</td>\n",
              "      <td>14000.0</td>\n",
              "      <td>500,000+</td>\n",
              "      <td>Free</td>\n",
              "      <td>0</td>\n",
              "      <td>Everyone</td>\n",
              "      <td>Art &amp; Design;Pretend Play</td>\n",
              "      <td>January 15, 2018</td>\n",
              "      <td>2.0.0</td>\n",
              "      <td>4.0.3 and up</td>\n",
              "    </tr>\n",
              "    <tr>\n",
              "      <th>2</th>\n",
              "      <td>U Launcher Lite – FREE Live Cool Themes, Hide ...</td>\n",
              "      <td>ART_AND_DESIGN</td>\n",
              "      <td>4.7</td>\n",
              "      <td>87510</td>\n",
              "      <td>8700.0</td>\n",
              "      <td>5,000,000+</td>\n",
              "      <td>Free</td>\n",
              "      <td>0</td>\n",
              "      <td>Everyone</td>\n",
              "      <td>Art &amp; Design</td>\n",
              "      <td>August 1, 2018</td>\n",
              "      <td>1.2.4</td>\n",
              "      <td>4.0.3 and up</td>\n",
              "    </tr>\n",
              "    <tr>\n",
              "      <th>3</th>\n",
              "      <td>Sketch - Draw &amp; Paint</td>\n",
              "      <td>ART_AND_DESIGN</td>\n",
              "      <td>4.5</td>\n",
              "      <td>215644</td>\n",
              "      <td>25000.0</td>\n",
              "      <td>50,000,000+</td>\n",
              "      <td>Free</td>\n",
              "      <td>0</td>\n",
              "      <td>Teen</td>\n",
              "      <td>Art &amp; Design</td>\n",
              "      <td>June 8, 2018</td>\n",
              "      <td>Varies with device</td>\n",
              "      <td>4.2 and up</td>\n",
              "    </tr>\n",
              "    <tr>\n",
              "      <th>4</th>\n",
              "      <td>Pixel Draw - Number Art Coloring Book</td>\n",
              "      <td>ART_AND_DESIGN</td>\n",
              "      <td>4.3</td>\n",
              "      <td>967</td>\n",
              "      <td>2800.0</td>\n",
              "      <td>100,000+</td>\n",
              "      <td>Free</td>\n",
              "      <td>0</td>\n",
              "      <td>Everyone</td>\n",
              "      <td>Art &amp; Design;Creativity</td>\n",
              "      <td>June 20, 2018</td>\n",
              "      <td>1.1</td>\n",
              "      <td>4.4 and up</td>\n",
              "    </tr>\n",
              "  </tbody>\n",
              "</table>\n",
              "</div>"
            ],
            "text/plain": [
              "                                                 App  ...   Android Ver\n",
              "0     Photo Editor & Candy Camera & Grid & ScrapBook  ...  4.0.3 and up\n",
              "1                                Coloring book moana  ...  4.0.3 and up\n",
              "2  U Launcher Lite – FREE Live Cool Themes, Hide ...  ...  4.0.3 and up\n",
              "3                              Sketch - Draw & Paint  ...    4.2 and up\n",
              "4              Pixel Draw - Number Art Coloring Book  ...    4.4 and up\n",
              "\n",
              "[5 rows x 13 columns]"
            ]
          },
          "metadata": {
            "tags": []
          },
          "execution_count": 12
        }
      ]
    },
    {
      "cell_type": "markdown",
      "metadata": {
        "id": "n_FcxGQntkNi",
        "colab_type": "text"
      },
      "source": [
        "-Reviews and installs need to be brought to numeric types."
      ]
    },
    {
      "cell_type": "markdown",
      "metadata": {
        "id": "jK-UI_Tsts4Q",
        "colab_type": "text"
      },
      "source": [
        "b. Price variable – remove $ sign and convert to float."
      ]
    },
    {
      "cell_type": "code",
      "metadata": {
        "id": "9WbXcf9izz5D",
        "colab_type": "code",
        "colab": {}
      },
      "source": [
        "price = []\n",
        "for i in df['Price']:\n",
        "    if i[0]=='$':\n",
        "        price.append(i[1:])\n",
        "    else:\n",
        "        price.append(i)"
      ],
      "execution_count": 0,
      "outputs": []
    },
    {
      "cell_type": "code",
      "metadata": {
        "id": "kElIM3GL15TH",
        "colab_type": "code",
        "colab": {}
      },
      "source": [
        "df.drop(labels=df[df['Price']=='Everyone'].index, inplace = True)\n",
        "df['Price']= price\n",
        "df['Price']= df['Price'].astype('float')"
      ],
      "execution_count": 0,
      "outputs": []
    },
    {
      "cell_type": "code",
      "metadata": {
        "id": "P6-qFJeK2J6J",
        "colab_type": "code",
        "outputId": "ffb52426-4ffa-4ac2-b5e5-740f82888d23",
        "colab": {
          "base_uri": "https://localhost:8080/",
          "height": 387
        }
      },
      "source": [
        "df.info()"
      ],
      "execution_count": 15,
      "outputs": [
        {
          "output_type": "stream",
          "text": [
            "<class 'pandas.core.frame.DataFrame'>\n",
            "Int64Index: 9366 entries, 0 to 10840\n",
            "Data columns (total 13 columns):\n",
            " #   Column          Non-Null Count  Dtype  \n",
            "---  ------          --------------  -----  \n",
            " 0   App             9366 non-null   object \n",
            " 1   Category        9366 non-null   object \n",
            " 2   Rating          9366 non-null   float64\n",
            " 3   Reviews         9366 non-null   object \n",
            " 4   Size            9366 non-null   float64\n",
            " 5   Installs        9366 non-null   object \n",
            " 6   Type            9366 non-null   object \n",
            " 7   Price           9366 non-null   float64\n",
            " 8   Content Rating  9366 non-null   object \n",
            " 9   Genres          9366 non-null   object \n",
            " 10  Last Updated    9366 non-null   object \n",
            " 11  Current Ver     9366 non-null   object \n",
            " 12  Android Ver     9366 non-null   object \n",
            "dtypes: float64(3), object(10)\n",
            "memory usage: 1.0+ MB\n"
          ],
          "name": "stdout"
        }
      ]
    },
    {
      "cell_type": "markdown",
      "metadata": {
        "id": "BRqel_AQ2c_m",
        "colab_type": "text"
      },
      "source": [
        "c. Installs – remove ‘,’ and ‘+’ sign, convert to integer."
      ]
    },
    {
      "cell_type": "code",
      "metadata": {
        "id": "RdSTFGEd2OLn",
        "colab_type": "code",
        "colab": {}
      },
      "source": [
        "installs = []\n",
        "for j in df['Installs']:\n",
        "    installs.append(j.replace(',','').replace('+','').strip())\n",
        "df['Installs']= installs\n",
        "df['Installs']= df['Installs'].astype('int')"
      ],
      "execution_count": 0,
      "outputs": []
    },
    {
      "cell_type": "code",
      "metadata": {
        "id": "0LXwWp_v4fFa",
        "colab_type": "code",
        "outputId": "343a88b2-46c2-4fe3-b71c-fc48764dd3ff",
        "colab": {
          "base_uri": "https://localhost:8080/",
          "height": 387
        }
      },
      "source": [
        "df.info()"
      ],
      "execution_count": 17,
      "outputs": [
        {
          "output_type": "stream",
          "text": [
            "<class 'pandas.core.frame.DataFrame'>\n",
            "Int64Index: 9366 entries, 0 to 10840\n",
            "Data columns (total 13 columns):\n",
            " #   Column          Non-Null Count  Dtype  \n",
            "---  ------          --------------  -----  \n",
            " 0   App             9366 non-null   object \n",
            " 1   Category        9366 non-null   object \n",
            " 2   Rating          9366 non-null   float64\n",
            " 3   Reviews         9366 non-null   object \n",
            " 4   Size            9366 non-null   float64\n",
            " 5   Installs        9366 non-null   int64  \n",
            " 6   Type            9366 non-null   object \n",
            " 7   Price           9366 non-null   float64\n",
            " 8   Content Rating  9366 non-null   object \n",
            " 9   Genres          9366 non-null   object \n",
            " 10  Last Updated    9366 non-null   object \n",
            " 11  Current Ver     9366 non-null   object \n",
            " 12  Android Ver     9366 non-null   object \n",
            "dtypes: float64(3), int64(1), object(9)\n",
            "memory usage: 1.0+ MB\n"
          ],
          "name": "stdout"
        }
      ]
    },
    {
      "cell_type": "markdown",
      "metadata": {
        "id": "LI7vGVPB6FgV",
        "colab_type": "text"
      },
      "source": [
        "-Installs is converted to integer data type."
      ]
    },
    {
      "cell_type": "markdown",
      "metadata": {
        "id": "0pN8pE6_4y4M",
        "colab_type": "text"
      },
      "source": [
        "\n",
        "d. Convert all other identified columns to numeric."
      ]
    },
    {
      "cell_type": "code",
      "metadata": {
        "id": "wHuZAFIq4g0B",
        "colab_type": "code",
        "colab": {}
      },
      "source": [
        "df['Reviews']= df['Reviews'].astype('int')"
      ],
      "execution_count": 0,
      "outputs": []
    },
    {
      "cell_type": "code",
      "metadata": {
        "id": "fSNpm34T5Nni",
        "colab_type": "code",
        "outputId": "0bb700b6-b1bf-4046-9707-570e03937a9c",
        "colab": {
          "base_uri": "https://localhost:8080/",
          "height": 387
        }
      },
      "source": [
        "df.info()"
      ],
      "execution_count": 19,
      "outputs": [
        {
          "output_type": "stream",
          "text": [
            "<class 'pandas.core.frame.DataFrame'>\n",
            "Int64Index: 9366 entries, 0 to 10840\n",
            "Data columns (total 13 columns):\n",
            " #   Column          Non-Null Count  Dtype  \n",
            "---  ------          --------------  -----  \n",
            " 0   App             9366 non-null   object \n",
            " 1   Category        9366 non-null   object \n",
            " 2   Rating          9366 non-null   float64\n",
            " 3   Reviews         9366 non-null   int64  \n",
            " 4   Size            9366 non-null   float64\n",
            " 5   Installs        9366 non-null   int64  \n",
            " 6   Type            9366 non-null   object \n",
            " 7   Price           9366 non-null   float64\n",
            " 8   Content Rating  9366 non-null   object \n",
            " 9   Genres          9366 non-null   object \n",
            " 10  Last Updated    9366 non-null   object \n",
            " 11  Current Ver     9366 non-null   object \n",
            " 12  Android Ver     9366 non-null   object \n",
            "dtypes: float64(3), int64(2), object(8)\n",
            "memory usage: 1.0+ MB\n"
          ],
          "name": "stdout"
        }
      ]
    },
    {
      "cell_type": "markdown",
      "metadata": {
        "id": "OIgRh3Yo6US1",
        "colab_type": "text"
      },
      "source": [
        "-Reviews is converted to integer data type."
      ]
    },
    {
      "cell_type": "markdown",
      "metadata": {
        "id": "EMsNVDRW5Tpc",
        "colab_type": "text"
      },
      "source": [
        "3. Sanity checks – check for the following and handle accordingly."
      ]
    },
    {
      "cell_type": "markdown",
      "metadata": {
        "id": "6-aP3A0i5dSd",
        "colab_type": "text"
      },
      "source": [
        "a. Avg. rating should be between 1 and 5, as only these values are allowed on the play store."
      ]
    },
    {
      "cell_type": "markdown",
      "metadata": {
        "id": "6UatFLTk5kdY",
        "colab_type": "text"
      },
      "source": [
        ">  i. Are there any such records? Drop if so."
      ]
    },
    {
      "cell_type": "code",
      "metadata": {
        "id": "5BvPQtjU5P5J",
        "colab_type": "code",
        "outputId": "6fc18761-1dfb-4e0f-85ca-ce8bcbb7226e",
        "colab": {
          "base_uri": "https://localhost:8080/",
          "height": 49
        }
      },
      "source": [
        "df.loc[df['Rating'] < 1]"
      ],
      "execution_count": 20,
      "outputs": [
        {
          "output_type": "execute_result",
          "data": {
            "text/html": [
              "<div>\n",
              "<style scoped>\n",
              "    .dataframe tbody tr th:only-of-type {\n",
              "        vertical-align: middle;\n",
              "    }\n",
              "\n",
              "    .dataframe tbody tr th {\n",
              "        vertical-align: top;\n",
              "    }\n",
              "\n",
              "    .dataframe thead th {\n",
              "        text-align: right;\n",
              "    }\n",
              "</style>\n",
              "<table border=\"1\" class=\"dataframe\">\n",
              "  <thead>\n",
              "    <tr style=\"text-align: right;\">\n",
              "      <th></th>\n",
              "      <th>App</th>\n",
              "      <th>Category</th>\n",
              "      <th>Rating</th>\n",
              "      <th>Reviews</th>\n",
              "      <th>Size</th>\n",
              "      <th>Installs</th>\n",
              "      <th>Type</th>\n",
              "      <th>Price</th>\n",
              "      <th>Content Rating</th>\n",
              "      <th>Genres</th>\n",
              "      <th>Last Updated</th>\n",
              "      <th>Current Ver</th>\n",
              "      <th>Android Ver</th>\n",
              "    </tr>\n",
              "  </thead>\n",
              "  <tbody>\n",
              "  </tbody>\n",
              "</table>\n",
              "</div>"
            ],
            "text/plain": [
              "Empty DataFrame\n",
              "Columns: [App, Category, Rating, Reviews, Size, Installs, Type, Price, Content Rating, Genres, Last Updated, Current Ver, Android Ver]\n",
              "Index: []"
            ]
          },
          "metadata": {
            "tags": []
          },
          "execution_count": 20
        }
      ]
    },
    {
      "cell_type": "code",
      "metadata": {
        "id": "Nuef7Ao5ADVg",
        "colab_type": "code",
        "outputId": "e25c6db0-8df3-43d0-bf11-65aace849937",
        "colab": {
          "base_uri": "https://localhost:8080/",
          "height": 49
        }
      },
      "source": [
        "df.loc[df['Rating'] > 5]"
      ],
      "execution_count": 21,
      "outputs": [
        {
          "output_type": "execute_result",
          "data": {
            "text/html": [
              "<div>\n",
              "<style scoped>\n",
              "    .dataframe tbody tr th:only-of-type {\n",
              "        vertical-align: middle;\n",
              "    }\n",
              "\n",
              "    .dataframe tbody tr th {\n",
              "        vertical-align: top;\n",
              "    }\n",
              "\n",
              "    .dataframe thead th {\n",
              "        text-align: right;\n",
              "    }\n",
              "</style>\n",
              "<table border=\"1\" class=\"dataframe\">\n",
              "  <thead>\n",
              "    <tr style=\"text-align: right;\">\n",
              "      <th></th>\n",
              "      <th>App</th>\n",
              "      <th>Category</th>\n",
              "      <th>Rating</th>\n",
              "      <th>Reviews</th>\n",
              "      <th>Size</th>\n",
              "      <th>Installs</th>\n",
              "      <th>Type</th>\n",
              "      <th>Price</th>\n",
              "      <th>Content Rating</th>\n",
              "      <th>Genres</th>\n",
              "      <th>Last Updated</th>\n",
              "      <th>Current Ver</th>\n",
              "      <th>Android Ver</th>\n",
              "    </tr>\n",
              "  </thead>\n",
              "  <tbody>\n",
              "  </tbody>\n",
              "</table>\n",
              "</div>"
            ],
            "text/plain": [
              "Empty DataFrame\n",
              "Columns: [App, Category, Rating, Reviews, Size, Installs, Type, Price, Content Rating, Genres, Last Updated, Current Ver, Android Ver]\n",
              "Index: []"
            ]
          },
          "metadata": {
            "tags": []
          },
          "execution_count": 21
        }
      ]
    },
    {
      "cell_type": "markdown",
      "metadata": {
        "id": "uWPGrT75AtpG",
        "colab_type": "text"
      },
      "source": [
        "-No, There are no such records which have  Avg. rating below 1 and above 5."
      ]
    },
    {
      "cell_type": "markdown",
      "metadata": {
        "id": "JZ4kCD50BKgy",
        "colab_type": "text"
      },
      "source": [
        "b. Reviews should not be more than installs as only those who installed can review the app."
      ]
    },
    {
      "cell_type": "markdown",
      "metadata": {
        "id": "41NDcQQ9OCg1",
        "colab_type": "text"
      },
      "source": [
        "> i. Are there any such records? Drop if so."
      ]
    },
    {
      "cell_type": "code",
      "metadata": {
        "id": "mS5nl1MjAFkX",
        "colab_type": "code",
        "outputId": "37b08093-5f10-46f0-e169-c0e9d70b445e",
        "colab": {
          "base_uri": "https://localhost:8080/",
          "height": 269
        }
      },
      "source": [
        "df.loc[df['Reviews'] > df['Installs']]"
      ],
      "execution_count": 22,
      "outputs": [
        {
          "output_type": "execute_result",
          "data": {
            "text/html": [
              "<div>\n",
              "<style scoped>\n",
              "    .dataframe tbody tr th:only-of-type {\n",
              "        vertical-align: middle;\n",
              "    }\n",
              "\n",
              "    .dataframe tbody tr th {\n",
              "        vertical-align: top;\n",
              "    }\n",
              "\n",
              "    .dataframe thead th {\n",
              "        text-align: right;\n",
              "    }\n",
              "</style>\n",
              "<table border=\"1\" class=\"dataframe\">\n",
              "  <thead>\n",
              "    <tr style=\"text-align: right;\">\n",
              "      <th></th>\n",
              "      <th>App</th>\n",
              "      <th>Category</th>\n",
              "      <th>Rating</th>\n",
              "      <th>Reviews</th>\n",
              "      <th>Size</th>\n",
              "      <th>Installs</th>\n",
              "      <th>Type</th>\n",
              "      <th>Price</th>\n",
              "      <th>Content Rating</th>\n",
              "      <th>Genres</th>\n",
              "      <th>Last Updated</th>\n",
              "      <th>Current Ver</th>\n",
              "      <th>Android Ver</th>\n",
              "    </tr>\n",
              "  </thead>\n",
              "  <tbody>\n",
              "    <tr>\n",
              "      <th>2454</th>\n",
              "      <td>KBA-EZ Health Guide</td>\n",
              "      <td>MEDICAL</td>\n",
              "      <td>5.0</td>\n",
              "      <td>4</td>\n",
              "      <td>25000.000000</td>\n",
              "      <td>1</td>\n",
              "      <td>Free</td>\n",
              "      <td>0.00</td>\n",
              "      <td>Everyone</td>\n",
              "      <td>Medical</td>\n",
              "      <td>August 2, 2018</td>\n",
              "      <td>1.0.72</td>\n",
              "      <td>4.0.3 and up</td>\n",
              "    </tr>\n",
              "    <tr>\n",
              "      <th>4663</th>\n",
              "      <td>Alarmy (Sleep If U Can) - Pro</td>\n",
              "      <td>LIFESTYLE</td>\n",
              "      <td>4.8</td>\n",
              "      <td>10249</td>\n",
              "      <td>21516.529524</td>\n",
              "      <td>10000</td>\n",
              "      <td>Paid</td>\n",
              "      <td>2.49</td>\n",
              "      <td>Everyone</td>\n",
              "      <td>Lifestyle</td>\n",
              "      <td>July 30, 2018</td>\n",
              "      <td>Varies with device</td>\n",
              "      <td>Varies with device</td>\n",
              "    </tr>\n",
              "    <tr>\n",
              "      <th>5917</th>\n",
              "      <td>Ra Ga Ba</td>\n",
              "      <td>GAME</td>\n",
              "      <td>5.0</td>\n",
              "      <td>2</td>\n",
              "      <td>20000.000000</td>\n",
              "      <td>1</td>\n",
              "      <td>Paid</td>\n",
              "      <td>1.49</td>\n",
              "      <td>Everyone</td>\n",
              "      <td>Arcade</td>\n",
              "      <td>February 8, 2017</td>\n",
              "      <td>1.0.4</td>\n",
              "      <td>2.3 and up</td>\n",
              "    </tr>\n",
              "    <tr>\n",
              "      <th>6700</th>\n",
              "      <td>Brick Breaker BR</td>\n",
              "      <td>GAME</td>\n",
              "      <td>5.0</td>\n",
              "      <td>7</td>\n",
              "      <td>19000.000000</td>\n",
              "      <td>5</td>\n",
              "      <td>Free</td>\n",
              "      <td>0.00</td>\n",
              "      <td>Everyone</td>\n",
              "      <td>Arcade</td>\n",
              "      <td>July 23, 2018</td>\n",
              "      <td>1.0</td>\n",
              "      <td>4.1 and up</td>\n",
              "    </tr>\n",
              "    <tr>\n",
              "      <th>7402</th>\n",
              "      <td>Trovami se ci riesci</td>\n",
              "      <td>GAME</td>\n",
              "      <td>5.0</td>\n",
              "      <td>11</td>\n",
              "      <td>6100.000000</td>\n",
              "      <td>10</td>\n",
              "      <td>Free</td>\n",
              "      <td>0.00</td>\n",
              "      <td>Everyone</td>\n",
              "      <td>Arcade</td>\n",
              "      <td>March 11, 2017</td>\n",
              "      <td>0.1</td>\n",
              "      <td>2.3 and up</td>\n",
              "    </tr>\n",
              "    <tr>\n",
              "      <th>8591</th>\n",
              "      <td>DN Blog</td>\n",
              "      <td>SOCIAL</td>\n",
              "      <td>5.0</td>\n",
              "      <td>20</td>\n",
              "      <td>4200.000000</td>\n",
              "      <td>10</td>\n",
              "      <td>Free</td>\n",
              "      <td>0.00</td>\n",
              "      <td>Teen</td>\n",
              "      <td>Social</td>\n",
              "      <td>July 23, 2018</td>\n",
              "      <td>1.0</td>\n",
              "      <td>4.0 and up</td>\n",
              "    </tr>\n",
              "    <tr>\n",
              "      <th>10697</th>\n",
              "      <td>Mu.F.O.</td>\n",
              "      <td>GAME</td>\n",
              "      <td>5.0</td>\n",
              "      <td>2</td>\n",
              "      <td>16000.000000</td>\n",
              "      <td>1</td>\n",
              "      <td>Paid</td>\n",
              "      <td>0.99</td>\n",
              "      <td>Everyone</td>\n",
              "      <td>Arcade</td>\n",
              "      <td>March 3, 2017</td>\n",
              "      <td>1.0</td>\n",
              "      <td>2.3 and up</td>\n",
              "    </tr>\n",
              "  </tbody>\n",
              "</table>\n",
              "</div>"
            ],
            "text/plain": [
              "                                 App  ...         Android Ver\n",
              "2454             KBA-EZ Health Guide  ...        4.0.3 and up\n",
              "4663   Alarmy (Sleep If U Can) - Pro  ...  Varies with device\n",
              "5917                        Ra Ga Ba  ...          2.3 and up\n",
              "6700                Brick Breaker BR  ...          4.1 and up\n",
              "7402            Trovami se ci riesci  ...          2.3 and up\n",
              "8591                         DN Blog  ...          4.0 and up\n",
              "10697                        Mu.F.O.  ...          2.3 and up\n",
              "\n",
              "[7 rows x 13 columns]"
            ]
          },
          "metadata": {
            "tags": []
          },
          "execution_count": 22
        }
      ]
    },
    {
      "cell_type": "markdown",
      "metadata": {
        "id": "Fu_gKCtfPECt",
        "colab_type": "text"
      },
      "source": [
        "-Yes, Their are 7 such records."
      ]
    },
    {
      "cell_type": "code",
      "metadata": {
        "id": "kNnEpryTPA0E",
        "colab_type": "code",
        "colab": {}
      },
      "source": [
        "tdf = df[df['Reviews']>df['Installs']].index\n",
        "df.drop(labels=tdf, inplace=True)"
      ],
      "execution_count": 0,
      "outputs": []
    },
    {
      "cell_type": "code",
      "metadata": {
        "id": "1Gpkex0xPnUj",
        "colab_type": "code",
        "outputId": "ad7eae6a-42c5-4f11-e74b-50d17a3de526",
        "colab": {
          "base_uri": "https://localhost:8080/",
          "height": 49
        }
      },
      "source": [
        "df.loc[df['Reviews'] > df['Installs']]"
      ],
      "execution_count": 24,
      "outputs": [
        {
          "output_type": "execute_result",
          "data": {
            "text/html": [
              "<div>\n",
              "<style scoped>\n",
              "    .dataframe tbody tr th:only-of-type {\n",
              "        vertical-align: middle;\n",
              "    }\n",
              "\n",
              "    .dataframe tbody tr th {\n",
              "        vertical-align: top;\n",
              "    }\n",
              "\n",
              "    .dataframe thead th {\n",
              "        text-align: right;\n",
              "    }\n",
              "</style>\n",
              "<table border=\"1\" class=\"dataframe\">\n",
              "  <thead>\n",
              "    <tr style=\"text-align: right;\">\n",
              "      <th></th>\n",
              "      <th>App</th>\n",
              "      <th>Category</th>\n",
              "      <th>Rating</th>\n",
              "      <th>Reviews</th>\n",
              "      <th>Size</th>\n",
              "      <th>Installs</th>\n",
              "      <th>Type</th>\n",
              "      <th>Price</th>\n",
              "      <th>Content Rating</th>\n",
              "      <th>Genres</th>\n",
              "      <th>Last Updated</th>\n",
              "      <th>Current Ver</th>\n",
              "      <th>Android Ver</th>\n",
              "    </tr>\n",
              "  </thead>\n",
              "  <tbody>\n",
              "  </tbody>\n",
              "</table>\n",
              "</div>"
            ],
            "text/plain": [
              "Empty DataFrame\n",
              "Columns: [App, Category, Rating, Reviews, Size, Installs, Type, Price, Content Rating, Genres, Last Updated, Current Ver, Android Ver]\n",
              "Index: []"
            ]
          },
          "metadata": {
            "tags": []
          },
          "execution_count": 24
        }
      ]
    },
    {
      "cell_type": "markdown",
      "metadata": {
        "id": "0Iq2tYBKPs4X",
        "colab_type": "text"
      },
      "source": [
        "-Now there are no records left where Reviews are greater than Installs."
      ]
    },
    {
      "cell_type": "markdown",
      "metadata": {
        "id": "mLTOnw4wQPcG",
        "colab_type": "text"
      },
      "source": [
        "4. Identify and handle outliers."
      ]
    },
    {
      "cell_type": "markdown",
      "metadata": {
        "id": "wQ1mjd-lQTsV",
        "colab_type": "text"
      },
      "source": [
        "a. Price column."
      ]
    },
    {
      "cell_type": "markdown",
      "metadata": {
        "id": "E0gUsDYMQaOr",
        "colab_type": "text"
      },
      "source": [
        "> i. Make suitable plot to identify outliers in price."
      ]
    },
    {
      "cell_type": "code",
      "metadata": {
        "id": "qj--0A63Prdm",
        "colab_type": "code",
        "outputId": "6631cf47-a6d9-4547-a04d-70abd44c165a",
        "colab": {
          "base_uri": "https://localhost:8080/",
          "height": 279
        }
      },
      "source": [
        "%matplotlib inline\n",
        "plt.boxplot(df['Price'])\n",
        "plt.xlabel('Price')\n",
        "plt.show()"
      ],
      "execution_count": 25,
      "outputs": [
        {
          "output_type": "display_data",
          "data": {
            "image/png": "[encoded data removed]",
            "text/plain": [
              "<Figure size 432x288 with 1 Axes>"
            ]
          },
          "metadata": {
            "tags": [],
            "needs_background": "light"
          }
        }
      ]
    },
    {
      "cell_type": "markdown",
      "metadata": {
        "id": "AdoOlO5IRE30",
        "colab_type": "text"
      },
      "source": [
        "> ii. Do you expect apps on the play store to cost $200? Check out these cases."
      ]
    },
    {
      "cell_type": "code",
      "metadata": {
        "id": "_CU5oXuaQ4Fq",
        "colab_type": "code",
        "outputId": "bbb8b116-cc84-432f-c1aa-941d5577e7c8",
        "colab": {
          "base_uri": "https://localhost:8080/",
          "height": 520
        }
      },
      "source": [
        "df.loc[df['Price'] > 200]"
      ],
      "execution_count": 26,
      "outputs": [
        {
          "output_type": "execute_result",
          "data": {
            "text/html": [
              "<div>\n",
              "<style scoped>\n",
              "    .dataframe tbody tr th:only-of-type {\n",
              "        vertical-align: middle;\n",
              "    }\n",
              "\n",
              "    .dataframe tbody tr th {\n",
              "        vertical-align: top;\n",
              "    }\n",
              "\n",
              "    .dataframe thead th {\n",
              "        text-align: right;\n",
              "    }\n",
              "</style>\n",
              "<table border=\"1\" class=\"dataframe\">\n",
              "  <thead>\n",
              "    <tr style=\"text-align: right;\">\n",
              "      <th></th>\n",
              "      <th>App</th>\n",
              "      <th>Category</th>\n",
              "      <th>Rating</th>\n",
              "      <th>Reviews</th>\n",
              "      <th>Size</th>\n",
              "      <th>Installs</th>\n",
              "      <th>Type</th>\n",
              "      <th>Price</th>\n",
              "      <th>Content Rating</th>\n",
              "      <th>Genres</th>\n",
              "      <th>Last Updated</th>\n",
              "      <th>Current Ver</th>\n",
              "      <th>Android Ver</th>\n",
              "    </tr>\n",
              "  </thead>\n",
              "  <tbody>\n",
              "    <tr>\n",
              "      <th>4197</th>\n",
              "      <td>most expensive app (H)</td>\n",
              "      <td>FAMILY</td>\n",
              "      <td>4.3</td>\n",
              "      <td>6</td>\n",
              "      <td>1500.0</td>\n",
              "      <td>100</td>\n",
              "      <td>Paid</td>\n",
              "      <td>399.99</td>\n",
              "      <td>Everyone</td>\n",
              "      <td>Entertainment</td>\n",
              "      <td>July 16, 2018</td>\n",
              "      <td>1.0</td>\n",
              "      <td>7.0 and up</td>\n",
              "    </tr>\n",
              "    <tr>\n",
              "      <th>4362</th>\n",
              "      <td>💎 I'm rich</td>\n",
              "      <td>LIFESTYLE</td>\n",
              "      <td>3.8</td>\n",
              "      <td>718</td>\n",
              "      <td>26000.0</td>\n",
              "      <td>10000</td>\n",
              "      <td>Paid</td>\n",
              "      <td>399.99</td>\n",
              "      <td>Everyone</td>\n",
              "      <td>Lifestyle</td>\n",
              "      <td>March 11, 2018</td>\n",
              "      <td>1.0.0</td>\n",
              "      <td>4.4 and up</td>\n",
              "    </tr>\n",
              "    <tr>\n",
              "      <th>4367</th>\n",
              "      <td>I'm Rich - Trump Edition</td>\n",
              "      <td>LIFESTYLE</td>\n",
              "      <td>3.6</td>\n",
              "      <td>275</td>\n",
              "      <td>7300.0</td>\n",
              "      <td>10000</td>\n",
              "      <td>Paid</td>\n",
              "      <td>400.00</td>\n",
              "      <td>Everyone</td>\n",
              "      <td>Lifestyle</td>\n",
              "      <td>May 3, 2018</td>\n",
              "      <td>1.0.1</td>\n",
              "      <td>4.1 and up</td>\n",
              "    </tr>\n",
              "    <tr>\n",
              "      <th>5351</th>\n",
              "      <td>I am rich</td>\n",
              "      <td>LIFESTYLE</td>\n",
              "      <td>3.8</td>\n",
              "      <td>3547</td>\n",
              "      <td>1800.0</td>\n",
              "      <td>100000</td>\n",
              "      <td>Paid</td>\n",
              "      <td>399.99</td>\n",
              "      <td>Everyone</td>\n",
              "      <td>Lifestyle</td>\n",
              "      <td>January 12, 2018</td>\n",
              "      <td>2.0</td>\n",
              "      <td>4.0.3 and up</td>\n",
              "    </tr>\n",
              "    <tr>\n",
              "      <th>5354</th>\n",
              "      <td>I am Rich Plus</td>\n",
              "      <td>FAMILY</td>\n",
              "      <td>4.0</td>\n",
              "      <td>856</td>\n",
              "      <td>8700.0</td>\n",
              "      <td>10000</td>\n",
              "      <td>Paid</td>\n",
              "      <td>399.99</td>\n",
              "      <td>Everyone</td>\n",
              "      <td>Entertainment</td>\n",
              "      <td>May 19, 2018</td>\n",
              "      <td>3.0</td>\n",
              "      <td>4.4 and up</td>\n",
              "    </tr>\n",
              "    <tr>\n",
              "      <th>5355</th>\n",
              "      <td>I am rich VIP</td>\n",
              "      <td>LIFESTYLE</td>\n",
              "      <td>3.8</td>\n",
              "      <td>411</td>\n",
              "      <td>2600.0</td>\n",
              "      <td>10000</td>\n",
              "      <td>Paid</td>\n",
              "      <td>299.99</td>\n",
              "      <td>Everyone</td>\n",
              "      <td>Lifestyle</td>\n",
              "      <td>July 21, 2018</td>\n",
              "      <td>1.1.1</td>\n",
              "      <td>4.3 and up</td>\n",
              "    </tr>\n",
              "    <tr>\n",
              "      <th>5356</th>\n",
              "      <td>I Am Rich Premium</td>\n",
              "      <td>FINANCE</td>\n",
              "      <td>4.1</td>\n",
              "      <td>1867</td>\n",
              "      <td>4700.0</td>\n",
              "      <td>50000</td>\n",
              "      <td>Paid</td>\n",
              "      <td>399.99</td>\n",
              "      <td>Everyone</td>\n",
              "      <td>Finance</td>\n",
              "      <td>November 12, 2017</td>\n",
              "      <td>1.6</td>\n",
              "      <td>4.0 and up</td>\n",
              "    </tr>\n",
              "    <tr>\n",
              "      <th>5357</th>\n",
              "      <td>I am extremely Rich</td>\n",
              "      <td>LIFESTYLE</td>\n",
              "      <td>2.9</td>\n",
              "      <td>41</td>\n",
              "      <td>2900.0</td>\n",
              "      <td>1000</td>\n",
              "      <td>Paid</td>\n",
              "      <td>379.99</td>\n",
              "      <td>Everyone</td>\n",
              "      <td>Lifestyle</td>\n",
              "      <td>July 1, 2018</td>\n",
              "      <td>1.0</td>\n",
              "      <td>4.0 and up</td>\n",
              "    </tr>\n",
              "    <tr>\n",
              "      <th>5358</th>\n",
              "      <td>I am Rich!</td>\n",
              "      <td>FINANCE</td>\n",
              "      <td>3.8</td>\n",
              "      <td>93</td>\n",
              "      <td>22000.0</td>\n",
              "      <td>1000</td>\n",
              "      <td>Paid</td>\n",
              "      <td>399.99</td>\n",
              "      <td>Everyone</td>\n",
              "      <td>Finance</td>\n",
              "      <td>December 11, 2017</td>\n",
              "      <td>1.0</td>\n",
              "      <td>4.1 and up</td>\n",
              "    </tr>\n",
              "    <tr>\n",
              "      <th>5359</th>\n",
              "      <td>I am rich(premium)</td>\n",
              "      <td>FINANCE</td>\n",
              "      <td>3.5</td>\n",
              "      <td>472</td>\n",
              "      <td>965.0</td>\n",
              "      <td>5000</td>\n",
              "      <td>Paid</td>\n",
              "      <td>399.99</td>\n",
              "      <td>Everyone</td>\n",
              "      <td>Finance</td>\n",
              "      <td>May 1, 2017</td>\n",
              "      <td>3.4</td>\n",
              "      <td>4.4 and up</td>\n",
              "    </tr>\n",
              "    <tr>\n",
              "      <th>5362</th>\n",
              "      <td>I Am Rich Pro</td>\n",
              "      <td>FAMILY</td>\n",
              "      <td>4.4</td>\n",
              "      <td>201</td>\n",
              "      <td>2700.0</td>\n",
              "      <td>5000</td>\n",
              "      <td>Paid</td>\n",
              "      <td>399.99</td>\n",
              "      <td>Everyone</td>\n",
              "      <td>Entertainment</td>\n",
              "      <td>May 30, 2017</td>\n",
              "      <td>1.54</td>\n",
              "      <td>1.6 and up</td>\n",
              "    </tr>\n",
              "    <tr>\n",
              "      <th>5364</th>\n",
              "      <td>I am rich (Most expensive app)</td>\n",
              "      <td>FINANCE</td>\n",
              "      <td>4.1</td>\n",
              "      <td>129</td>\n",
              "      <td>2700.0</td>\n",
              "      <td>1000</td>\n",
              "      <td>Paid</td>\n",
              "      <td>399.99</td>\n",
              "      <td>Teen</td>\n",
              "      <td>Finance</td>\n",
              "      <td>December 6, 2017</td>\n",
              "      <td>2</td>\n",
              "      <td>4.0.3 and up</td>\n",
              "    </tr>\n",
              "    <tr>\n",
              "      <th>5366</th>\n",
              "      <td>I Am Rich</td>\n",
              "      <td>FAMILY</td>\n",
              "      <td>3.6</td>\n",
              "      <td>217</td>\n",
              "      <td>4900.0</td>\n",
              "      <td>10000</td>\n",
              "      <td>Paid</td>\n",
              "      <td>389.99</td>\n",
              "      <td>Everyone</td>\n",
              "      <td>Entertainment</td>\n",
              "      <td>June 22, 2018</td>\n",
              "      <td>1.5</td>\n",
              "      <td>4.2 and up</td>\n",
              "    </tr>\n",
              "    <tr>\n",
              "      <th>5369</th>\n",
              "      <td>I am Rich</td>\n",
              "      <td>FINANCE</td>\n",
              "      <td>4.3</td>\n",
              "      <td>180</td>\n",
              "      <td>3800.0</td>\n",
              "      <td>5000</td>\n",
              "      <td>Paid</td>\n",
              "      <td>399.99</td>\n",
              "      <td>Everyone</td>\n",
              "      <td>Finance</td>\n",
              "      <td>March 22, 2018</td>\n",
              "      <td>1.0</td>\n",
              "      <td>4.2 and up</td>\n",
              "    </tr>\n",
              "    <tr>\n",
              "      <th>5373</th>\n",
              "      <td>I AM RICH PRO PLUS</td>\n",
              "      <td>FINANCE</td>\n",
              "      <td>4.0</td>\n",
              "      <td>36</td>\n",
              "      <td>41000.0</td>\n",
              "      <td>1000</td>\n",
              "      <td>Paid</td>\n",
              "      <td>399.99</td>\n",
              "      <td>Everyone</td>\n",
              "      <td>Finance</td>\n",
              "      <td>June 25, 2018</td>\n",
              "      <td>1.0.2</td>\n",
              "      <td>4.1 and up</td>\n",
              "    </tr>\n",
              "  </tbody>\n",
              "</table>\n",
              "</div>"
            ],
            "text/plain": [
              "                                 App   Category  ...  Current Ver   Android Ver\n",
              "4197          most expensive app (H)     FAMILY  ...          1.0    7.0 and up\n",
              "4362                      💎 I'm rich  LIFESTYLE  ...        1.0.0    4.4 and up\n",
              "4367        I'm Rich - Trump Edition  LIFESTYLE  ...        1.0.1    4.1 and up\n",
              "5351                       I am rich  LIFESTYLE  ...          2.0  4.0.3 and up\n",
              "5354                  I am Rich Plus     FAMILY  ...          3.0    4.4 and up\n",
              "5355                   I am rich VIP  LIFESTYLE  ...        1.1.1    4.3 and up\n",
              "5356               I Am Rich Premium    FINANCE  ...          1.6    4.0 and up\n",
              "5357             I am extremely Rich  LIFESTYLE  ...          1.0    4.0 and up\n",
              "5358                      I am Rich!    FINANCE  ...          1.0    4.1 and up\n",
              "5359              I am rich(premium)    FINANCE  ...          3.4    4.4 and up\n",
              "5362                   I Am Rich Pro     FAMILY  ...         1.54    1.6 and up\n",
              "5364  I am rich (Most expensive app)    FINANCE  ...            2  4.0.3 and up\n",
              "5366                       I Am Rich     FAMILY  ...          1.5    4.2 and up\n",
              "5369                       I am Rich    FINANCE  ...          1.0    4.2 and up\n",
              "5373              I AM RICH PRO PLUS    FINANCE  ...        1.0.2    4.1 and up\n",
              "\n",
              "[15 rows x 13 columns]"
            ]
          },
          "metadata": {
            "tags": []
          },
          "execution_count": 26
        }
      ]
    },
    {
      "cell_type": "markdown",
      "metadata": {
        "id": "kB8w8fMd7O99",
        "colab_type": "text"
      },
      "source": [
        "-Yes, We can expect apps on the play store to cost $200."
      ]
    },
    {
      "cell_type": "markdown",
      "metadata": {
        "id": "zd4A6OD0SgcB",
        "colab_type": "text"
      },
      "source": [
        "> iii. After dropping the useless records, make the suitable plot again to identify outliers."
      ]
    },
    {
      "cell_type": "code",
      "metadata": {
        "id": "HoBxVs3dRkye",
        "colab_type": "code",
        "outputId": "edd140c8-e9db-4add-f11b-ef238f00e8f5",
        "colab": {
          "base_uri": "https://localhost:8080/",
          "height": 279
        }
      },
      "source": [
        "plt.boxplot(df['Price'])\n",
        "plt.xlabel('Price')\n",
        "plt.show()"
      ],
      "execution_count": 27,
      "outputs": [
        {
          "output_type": "display_data",
          "data": {
            "image/png": "[encoded data removed]",
            "text/plain": [
              "<Figure size 432x288 with 1 Axes>"
            ]
          },
          "metadata": {
            "tags": [],
            "needs_background": "light"
          }
        }
      ]
    },
    {
      "cell_type": "markdown",
      "metadata": {
        "id": "Vz5uqrUjSzSZ",
        "colab_type": "text"
      },
      "source": [
        "> iv. Limit data to records with price < $30"
      ]
    },
    {
      "cell_type": "code",
      "metadata": {
        "id": "Mc_xk83ySW6u",
        "colab_type": "code",
        "colab": {}
      },
      "source": [
        "dflt30 = df[df['Price'] > 30].index\n",
        "df.drop(labels=dflt30, inplace=True)"
      ],
      "execution_count": 0,
      "outputs": []
    },
    {
      "cell_type": "code",
      "metadata": {
        "id": "cAKXrbyhTMUM",
        "colab_type": "code",
        "outputId": "8d1779f5-d74a-4e6c-9b58-656a2ebfbc83",
        "colab": {
          "base_uri": "https://localhost:8080/",
          "height": 35
        }
      },
      "source": [
        "count = df.loc[df['Price'] > 30].index\n",
        "count.value_counts().sum()"
      ],
      "execution_count": 29,
      "outputs": [
        {
          "output_type": "execute_result",
          "data": {
            "text/plain": [
              "0"
            ]
          },
          "metadata": {
            "tags": []
          },
          "execution_count": 29
        }
      ]
    },
    {
      "cell_type": "code",
      "metadata": {
        "id": "txPRWi04TYp1",
        "colab_type": "code",
        "outputId": "75ca4542-5dd6-49c6-e2dc-0baf048f4a25",
        "colab": {
          "base_uri": "https://localhost:8080/",
          "height": 279
        }
      },
      "source": [
        "plt.boxplot(df['Price'])\n",
        "plt.xlabel('Price')\n",
        "plt.show()"
      ],
      "execution_count": 30,
      "outputs": [
        {
          "output_type": "display_data",
          "data": {
            "image/png": "[encoded data removed]",
            "text/plain": [
              "<Figure size 432x288 with 1 Axes>"
            ]
          },
          "metadata": {
            "tags": [],
            "needs_background": "light"
          }
        }
      ]
    },
    {
      "cell_type": "markdown",
      "metadata": {
        "id": "Z9MUxbD3TvOA",
        "colab_type": "text"
      },
      "source": [
        "b. Reviews column."
      ]
    },
    {
      "cell_type": "markdown",
      "metadata": {
        "id": "dsYOYiB0T8Jx",
        "colab_type": "text"
      },
      "source": [
        "> i. Make suitable plot"
      ]
    },
    {
      "cell_type": "code",
      "metadata": {
        "id": "Rfueq0TETgKr",
        "colab_type": "code",
        "outputId": "7c163511-e048-4a58-f5dd-313845e0da03",
        "colab": {
          "base_uri": "https://localhost:8080/",
          "height": 290
        }
      },
      "source": [
        "sns.distplot(df['Reviews'])\n",
        "plt.show()"
      ],
      "execution_count": 31,
      "outputs": [
        {
          "output_type": "display_data",
          "data": {
            "image/png": "[encoded data removed]",
            "text/plain": [
              "<Figure size 432x288 with 1 Axes>"
            ]
          },
          "metadata": {
            "tags": [],
            "needs_background": "light"
          }
        }
      ]
    },
    {
      "cell_type": "markdown",
      "metadata": {
        "id": "7Bg3_TdcVhMV",
        "colab_type": "text"
      },
      "source": [
        "> ii. Limit data to apps with < 1 Million reviews."
      ]
    },
    {
      "cell_type": "code",
      "metadata": {
        "id": "2iOrj_vHUxnZ",
        "colab_type": "code",
        "outputId": "a7deee78-43f3-4cbf-dbcd-5ffcd91b327c",
        "colab": {
          "base_uri": "https://localhost:8080/",
          "height": 35
        }
      },
      "source": [
        "dfl1m = df[df['Reviews'] > 1000000 ].index\n",
        "df.drop(labels = dfl1m, inplace=True)\n",
        "print(dfl1m.value_counts().sum(),'apps having more than 1 Millon reviews dropped.')"
      ],
      "execution_count": 32,
      "outputs": [
        {
          "output_type": "stream",
          "text": [
            "704 apps having more than 1 Millon reviews dropped.\n"
          ],
          "name": "stdout"
        }
      ]
    },
    {
      "cell_type": "markdown",
      "metadata": {
        "id": "OzXZ0Og8XBvW",
        "colab_type": "text"
      },
      "source": [
        "c. Installs."
      ]
    },
    {
      "cell_type": "markdown",
      "metadata": {
        "id": "POfpaUs5XDvW",
        "colab_type": "text"
      },
      "source": [
        "> i. What is the 95th percentile of the installs?"
      ]
    },
    {
      "cell_type": "code",
      "metadata": {
        "id": "lXCK94cdW5Yv",
        "colab_type": "code",
        "outputId": "0dced718-16ce-4427-ac92-04008f05d138",
        "colab": {
          "base_uri": "https://localhost:8080/",
          "height": 35
        }
      },
      "source": [
        "pctl = df.Installs.quantile(0.95)\n",
        "print(pctl,\"is the 95th percentile of the installs.\")"
      ],
      "execution_count": 33,
      "outputs": [
        {
          "output_type": "stream",
          "text": [
            "10000000.0 is the 95th percentile of the installs.\n"
          ],
          "name": "stdout"
        }
      ]
    },
    {
      "cell_type": "markdown",
      "metadata": {
        "id": "MRuvG5iSYRFV",
        "colab_type": "text"
      },
      "source": [
        "> ii.Drop records having a value more than the 95th percentile."
      ]
    },
    {
      "cell_type": "code",
      "metadata": {
        "id": "iXay4EZTYB6H",
        "colab_type": "code",
        "outputId": "e4ae40fd-28ca-43cf-aced-40237d0c4488",
        "colab": {
          "base_uri": "https://localhost:8080/",
          "height": 1000
        }
      },
      "source": [
        "for i in range(0,101,1):\n",
        "    print(' the {} percentile of installs is {} '.format(i,np.percentile(df['Installs'],i)))"
      ],
      "execution_count": 34,
      "outputs": [
        {
          "output_type": "stream",
          "text": [
            " the 0 percentile of installs is 5.0 \n",
            " the 1 percentile of installs is 50.0 \n",
            " the 2 percentile of installs is 100.0 \n",
            " the 3 percentile of installs is 100.0 \n",
            " the 4 percentile of installs is 100.0 \n",
            " the 5 percentile of installs is 100.0 \n",
            " the 6 percentile of installs is 500.0 \n",
            " the 7 percentile of installs is 500.0 \n",
            " the 8 percentile of installs is 1000.0 \n",
            " the 9 percentile of installs is 1000.0 \n",
            " the 10 percentile of installs is 1000.0 \n",
            " the 11 percentile of installs is 1000.0 \n",
            " the 12 percentile of installs is 1000.0 \n",
            " the 13 percentile of installs is 1000.0 \n",
            " the 14 percentile of installs is 1000.0 \n",
            " the 15 percentile of installs is 1000.0 \n",
            " the 16 percentile of installs is 5000.0 \n",
            " the 17 percentile of installs is 5000.0 \n",
            " the 18 percentile of installs is 5000.0 \n",
            " the 19 percentile of installs is 5000.0 \n",
            " the 20 percentile of installs is 5000.0 \n",
            " the 21 percentile of installs is 10000.0 \n",
            " the 22 percentile of installs is 10000.0 \n",
            " the 23 percentile of installs is 10000.0 \n",
            " the 24 percentile of installs is 10000.0 \n",
            " the 25 percentile of installs is 10000.0 \n",
            " the 26 percentile of installs is 10000.0 \n",
            " the 27 percentile of installs is 10000.0 \n",
            " the 28 percentile of installs is 10000.0 \n",
            " the 29 percentile of installs is 10000.0 \n",
            " the 30 percentile of installs is 10000.0 \n",
            " the 31 percentile of installs is 10000.0 \n",
            " the 32 percentile of installs is 10000.0 \n",
            " the 33 percentile of installs is 50000.0 \n",
            " the 34 percentile of installs is 50000.0 \n",
            " the 35 percentile of installs is 50000.0 \n",
            " the 36 percentile of installs is 50000.0 \n",
            " the 37 percentile of installs is 50000.0 \n",
            " the 38 percentile of installs is 100000.0 \n",
            " the 39 percentile of installs is 100000.0 \n",
            " the 40 percentile of installs is 100000.0 \n",
            " the 41 percentile of installs is 100000.0 \n",
            " the 42 percentile of installs is 100000.0 \n",
            " the 43 percentile of installs is 100000.0 \n",
            " the 44 percentile of installs is 100000.0 \n",
            " the 45 percentile of installs is 100000.0 \n",
            " the 46 percentile of installs is 100000.0 \n",
            " the 47 percentile of installs is 100000.0 \n",
            " the 48 percentile of installs is 100000.0 \n",
            " the 49 percentile of installs is 100000.0 \n",
            " the 50 percentile of installs is 100000.0 \n",
            " the 51 percentile of installs is 500000.0 \n",
            " the 52 percentile of installs is 500000.0 \n",
            " the 53 percentile of installs is 500000.0 \n",
            " the 54 percentile of installs is 500000.0 \n",
            " the 55 percentile of installs is 500000.0 \n",
            " the 56 percentile of installs is 500000.0 \n",
            " the 57 percentile of installs is 500000.0 \n",
            " the 58 percentile of installs is 1000000.0 \n",
            " the 59 percentile of installs is 1000000.0 \n",
            " the 60 percentile of installs is 1000000.0 \n",
            " the 61 percentile of installs is 1000000.0 \n",
            " the 62 percentile of installs is 1000000.0 \n",
            " the 63 percentile of installs is 1000000.0 \n",
            " the 64 percentile of installs is 1000000.0 \n",
            " the 65 percentile of installs is 1000000.0 \n",
            " the 66 percentile of installs is 1000000.0 \n",
            " the 67 percentile of installs is 1000000.0 \n",
            " the 68 percentile of installs is 1000000.0 \n",
            " the 69 percentile of installs is 1000000.0 \n",
            " the 70 percentile of installs is 1000000.0 \n",
            " the 71 percentile of installs is 1000000.0 \n",
            " the 72 percentile of installs is 1000000.0 \n",
            " the 73 percentile of installs is 1000000.0 \n",
            " the 74 percentile of installs is 1000000.0 \n",
            " the 75 percentile of installs is 1000000.0 \n",
            " the 76 percentile of installs is 5000000.0 \n",
            " the 77 percentile of installs is 5000000.0 \n",
            " the 78 percentile of installs is 5000000.0 \n",
            " the 79 percentile of installs is 5000000.0 \n",
            " the 80 percentile of installs is 5000000.0 \n",
            " the 81 percentile of installs is 5000000.0 \n",
            " the 82 percentile of installs is 5000000.0 \n",
            " the 83 percentile of installs is 5000000.0 \n",
            " the 84 percentile of installs is 5000000.0 \n",
            " the 85 percentile of installs is 10000000.0 \n",
            " the 86 percentile of installs is 10000000.0 \n",
            " the 87 percentile of installs is 10000000.0 \n",
            " the 88 percentile of installs is 10000000.0 \n",
            " the 89 percentile of installs is 10000000.0 \n",
            " the 90 percentile of installs is 10000000.0 \n",
            " the 91 percentile of installs is 10000000.0 \n",
            " the 92 percentile of installs is 10000000.0 \n",
            " the 93 percentile of installs is 10000000.0 \n",
            " the 94 percentile of installs is 10000000.0 \n",
            " the 95 percentile of installs is 10000000.0 \n",
            " the 96 percentile of installs is 10000000.0 \n",
            " the 97 percentile of installs is 10000000.0 \n",
            " the 98 percentile of installs is 50000000.0 \n",
            " the 99 percentile of installs is 50000000.0 \n",
            " the 100 percentile of installs is 1000000000.0 \n"
          ],
          "name": "stdout"
        }
      ]
    },
    {
      "cell_type": "code",
      "metadata": {
        "id": "W6oKX3jWY_CC",
        "colab_type": "code",
        "outputId": "45ca3508-5dde-4bbf-bc70-ab9545d87112",
        "colab": {
          "base_uri": "https://localhost:8080/",
          "height": 35
        }
      },
      "source": [
        "dft = df[df[\"Installs\"] > pctl].index\n",
        "print(dft.value_counts().sum(),'Records having a value more than the 95th percentile dropped.')\n",
        "df.drop(labels = dft, inplace = True)"
      ],
      "execution_count": 35,
      "outputs": [
        {
          "output_type": "stream",
          "text": [
            "199 Records having a value more than the 95th percentile dropped.\n"
          ],
          "name": "stdout"
        }
      ]
    },
    {
      "cell_type": "markdown",
      "metadata": {
        "id": "8XssdadKa3Uh",
        "colab_type": "text"
      },
      "source": [
        "5. What is the distribution of ratings like? (use Seaborn) More skewed towards higher/lower values?"
      ]
    },
    {
      "cell_type": "markdown",
      "metadata": {
        "id": "e_2LNT0Ya-Ez",
        "colab_type": "text"
      },
      "source": [
        "a. How do you explain this?"
      ]
    },
    {
      "cell_type": "code",
      "metadata": {
        "id": "5ESUH07wZtmL",
        "colab_type": "code",
        "outputId": "3b5e8ed2-e87e-4c6b-fb1c-6d0e12a8e288",
        "colab": {
          "base_uri": "https://localhost:8080/",
          "height": 319
        }
      },
      "source": [
        "sns.distplot(df['Rating'])\n",
        "plt.show()\n",
        "print('The Skewness of this distribution is',str(round(df['Rating'].skew(),3))+'.')\n",
        "print('The Median of this distribution {} is greater than Mean {} of this distribution.'.format(df.Rating.median(),round(df.Rating.mean(),3)))"
      ],
      "execution_count": 36,
      "outputs": [
        {
          "output_type": "display_data",
          "data": {
            "image/png": "[encoded data removed]",
            "text/plain": [
              "<Figure size 432x288 with 1 Axes>"
            ]
          },
          "metadata": {
            "tags": [],
            "needs_background": "light"
          }
        },
        {
          "output_type": "stream",
          "text": [
            "The Skewness of this distribution is -1.743.\n",
            "The Median of this distribution 4.3 is greater than Mean 4.171 of this distribution.\n"
          ],
          "name": "stdout"
        }
      ]
    },
    {
      "cell_type": "markdown",
      "metadata": {
        "id": "QOcitZ8-claS",
        "colab_type": "text"
      },
      "source": [
        "b. What is the implication of this on your analysis?"
      ]
    },
    {
      "cell_type": "code",
      "metadata": {
        "id": "2NOsoYmebjFY",
        "colab_type": "code",
        "outputId": "e5efe846-871b-4cbb-ac78-7aa592e58daf",
        "colab": {
          "base_uri": "https://localhost:8080/",
          "height": 54
        }
      },
      "source": [
        "df['Rating'].mode()"
      ],
      "execution_count": 37,
      "outputs": [
        {
          "output_type": "execute_result",
          "data": {
            "text/plain": [
              "0    4.3\n",
              "dtype: float64"
            ]
          },
          "metadata": {
            "tags": []
          },
          "execution_count": 37
        }
      ]
    },
    {
      "cell_type": "markdown",
      "metadata": {
        "id": "b2R3kWqUc6uL",
        "colab_type": "text"
      },
      "source": [
        "-Since Mode >= Median > Mean, The distribution of Rating is Negatively Skewed. That is distribution of Rating is more Skewed towards lower values."
      ]
    },
    {
      "cell_type": "markdown",
      "metadata": {
        "id": "8BuSje-MdYFo",
        "colab_type": "text"
      },
      "source": [
        "\n",
        "6. What are the top Content Rating values?"
      ]
    },
    {
      "cell_type": "markdown",
      "metadata": {
        "id": "QUz-PIhHdZZ9",
        "colab_type": "text"
      },
      "source": [
        "\n",
        "a. Are there any values with very few records?"
      ]
    },
    {
      "cell_type": "code",
      "metadata": {
        "id": "Dwz0a4hLc1te",
        "colab_type": "code",
        "outputId": "72f5f7d6-0541-427f-c207-4d45a4966410",
        "colab": {
          "base_uri": "https://localhost:8080/",
          "height": 146
        }
      },
      "source": [
        "df['Content Rating'].value_counts()"
      ],
      "execution_count": 38,
      "outputs": [
        {
          "output_type": "execute_result",
          "data": {
            "text/plain": [
              "Everyone           6782\n",
              "Teen                900\n",
              "Mature 17+          417\n",
              "Everyone 10+        332\n",
              "Adults only 18+       3\n",
              "Unrated               1\n",
              "Name: Content Rating, dtype: int64"
            ]
          },
          "metadata": {
            "tags": []
          },
          "execution_count": 38
        }
      ]
    },
    {
      "cell_type": "markdown",
      "metadata": {
        "id": "PVue0ddAd1Mq",
        "colab_type": "text"
      },
      "source": [
        "-Yes, Adults only 18+ and Unrated are values with very few records."
      ]
    },
    {
      "cell_type": "markdown",
      "metadata": {
        "id": "w93eWHZbd9er",
        "colab_type": "text"
      },
      "source": [
        "b. If yes, drop those as they won’t help in the analysis."
      ]
    },
    {
      "cell_type": "code",
      "metadata": {
        "id": "FmWb6CyZdr1d",
        "colab_type": "code",
        "outputId": "d1828902-3c03-4b0d-b06e-d2a9394c1c4e",
        "colab": {
          "base_uri": "https://localhost:8080/",
          "height": 128
        }
      },
      "source": [
        "dft1 = df[df[\"Content Rating\"] == 'Adults only 18+'].index\n",
        "df.drop(labels=dft1, inplace=True)\n",
        "df['Content Rating'].value_counts()"
      ],
      "execution_count": 39,
      "outputs": [
        {
          "output_type": "execute_result",
          "data": {
            "text/plain": [
              "Everyone        6782\n",
              "Teen             900\n",
              "Mature 17+       417\n",
              "Everyone 10+     332\n",
              "Unrated            1\n",
              "Name: Content Rating, dtype: int64"
            ]
          },
          "metadata": {
            "tags": []
          },
          "execution_count": 39
        }
      ]
    },
    {
      "cell_type": "markdown",
      "metadata": {
        "id": "zaSY9vp19mRu",
        "colab_type": "text"
      },
      "source": [
        "-Adults only 18+ values droped."
      ]
    },
    {
      "cell_type": "code",
      "metadata": {
        "id": "2XTvd707fxy5",
        "colab_type": "code",
        "outputId": "dae51b64-b791-4f53-9737-3fa3279d8a50",
        "colab": {
          "base_uri": "https://localhost:8080/",
          "height": 109
        }
      },
      "source": [
        "dft2 = df[df[\"Content Rating\"] == 'Unrated'].index\n",
        "df.drop(labels=dft2, inplace=True)\n",
        "df['Content Rating'].value_counts()"
      ],
      "execution_count": 40,
      "outputs": [
        {
          "output_type": "execute_result",
          "data": {
            "text/plain": [
              "Everyone        6782\n",
              "Teen             900\n",
              "Mature 17+       417\n",
              "Everyone 10+     332\n",
              "Name: Content Rating, dtype: int64"
            ]
          },
          "metadata": {
            "tags": []
          },
          "execution_count": 40
        }
      ]
    },
    {
      "cell_type": "markdown",
      "metadata": {
        "id": "VdDMpuWtBoaN",
        "colab_type": "text"
      },
      "source": [
        "-Unrated values droped."
      ]
    },
    {
      "cell_type": "markdown",
      "metadata": {
        "id": "SuQJiwt3gXAM",
        "colab_type": "text"
      },
      "source": [
        "7. Effect of size on rating."
      ]
    },
    {
      "cell_type": "markdown",
      "metadata": {
        "id": "ZcJevfFagYgK",
        "colab_type": "text"
      },
      "source": [
        "\n",
        "a. Make a joinplot to understand the effect of size on rating."
      ]
    },
    {
      "cell_type": "code",
      "metadata": {
        "id": "2gL4kkulgBkC",
        "colab_type": "code",
        "outputId": "95774faf-629e-4bb7-cbc8-9895cf0bcf65",
        "colab": {
          "base_uri": "https://localhost:8080/",
          "height": 441
        }
      },
      "source": [
        "sns.jointplot(y ='Size', x ='Rating', data = df, kind ='reg')\n",
        "plt.show()"
      ],
      "execution_count": 41,
      "outputs": [
        {
          "output_type": "display_data",
          "data": {
            "image/png": "[encoded data removed]",
            "text/plain": [
              "<Figure size 432x432 with 3 Axes>"
            ]
          },
          "metadata": {
            "tags": [],
            "needs_background": "light"
          }
        }
      ]
    },
    {
      "cell_type": "markdown",
      "metadata": {
        "id": "w90e9rxwiQHw",
        "colab_type": "text"
      },
      "source": [
        "b. Do you see any patterns?"
      ]
    },
    {
      "cell_type": "markdown",
      "metadata": {
        "id": "OB32hun6iZO_",
        "colab_type": "text"
      },
      "source": [
        "-Yes, patterns can be seen between Size and Rating of apps."
      ]
    },
    {
      "cell_type": "markdown",
      "metadata": {
        "id": "2ChditO5iof5",
        "colab_type": "text"
      },
      "source": [
        "c. How do you explain the pattern?"
      ]
    },
    {
      "cell_type": "markdown",
      "metadata": {
        "id": "ZZgPFkqqjGbJ",
        "colab_type": "text"
      },
      "source": [
        "-As the Rating of an App increases, Size of an App also increases. Although, This is not true for each App, as their is constant Size for higher rated Apps. Therfore we can infer that their is positive correlation between Size and Rating. That is the slope of  the regression line is positive."
      ]
    },
    {
      "cell_type": "markdown",
      "metadata": {
        "id": "JtKo8PbfkW_j",
        "colab_type": "text"
      },
      "source": [
        "8. Effect of price on rating."
      ]
    },
    {
      "cell_type": "markdown",
      "metadata": {
        "id": "qPz4gdTOkd7n",
        "colab_type": "text"
      },
      "source": [
        "a. Make a jointplot (with regression line)."
      ]
    },
    {
      "cell_type": "code",
      "metadata": {
        "id": "B1p5wYtMgnDY",
        "colab_type": "code",
        "outputId": "acd5a825-e955-4061-a332-6fa0592ca9ed",
        "colab": {
          "base_uri": "https://localhost:8080/",
          "height": 441
        }
      },
      "source": [
        "sns.jointplot(x='Price', y='Rating', data=df, kind='reg')\n",
        "plt.show()"
      ],
      "execution_count": 42,
      "outputs": [
        {
          "output_type": "display_data",
          "data": {
            "image/png": "[encoded data removed]",
            "text/plain": [
              "<Figure size 432x432 with 3 Axes>"
            ]
          },
          "metadata": {
            "tags": [],
            "needs_background": "light"
          }
        }
      ]
    },
    {
      "cell_type": "markdown",
      "metadata": {
        "id": "DABbwicLlSq5",
        "colab_type": "text"
      },
      "source": [
        "b. What pattern do you see?"
      ]
    },
    {
      "cell_type": "markdown",
      "metadata": {
        "id": "wBgmyxZqlW4o",
        "colab_type": "text"
      },
      "source": [
        "-Although the Price of an Apps increases, Rating remains almost constant at slightly greater than 4."
      ]
    },
    {
      "cell_type": "markdown",
      "metadata": {
        "id": "7dO6R3BrmLVY",
        "colab_type": "text"
      },
      "source": [
        "c. How do you explain the pattern?"
      ]
    },
    {
      "cell_type": "markdown",
      "metadata": {
        "id": "Krt2WNc0mPY4",
        "colab_type": "text"
      },
      "source": [
        "-Since on increasing the Price, Rating remains almost constant at greater than 4. Thus it can be concluded that their is very weak Positive correlation between Rating and Price. That is the slope of  the regression line is slightly positive."
      ]
    },
    {
      "cell_type": "markdown",
      "metadata": {
        "id": "qPMbI2N-nAQa",
        "colab_type": "text"
      },
      "source": [
        "d. Replot the data, this time with only records with price > 0."
      ]
    },
    {
      "cell_type": "code",
      "metadata": {
        "id": "T50I-hyXk8Ak",
        "colab_type": "code",
        "outputId": "40835c7c-25da-4912-937a-d1e38fcd7295",
        "colab": {
          "base_uri": "https://localhost:8080/",
          "height": 441
        }
      },
      "source": [
        "df1=df.loc[df.Price>0]\n",
        "sns.jointplot(x='Price', y='Rating', data=df1, kind='reg')\n",
        "plt.show()"
      ],
      "execution_count": 43,
      "outputs": [
        {
          "output_type": "display_data",
          "data": {
            "image/png": "[encoded data removed]",
            "text/plain": [
              "<Figure size 432x432 with 3 Axes>"
            ]
          },
          "metadata": {
            "tags": [],
            "needs_background": "light"
          }
        }
      ]
    },
    {
      "cell_type": "markdown",
      "metadata": {
        "id": "8lfo7U6coVMJ",
        "colab_type": "text"
      },
      "source": [
        "e. Does the pattern change?"
      ]
    },
    {
      "cell_type": "markdown",
      "metadata": {
        "id": "QTTXmTPGocWg",
        "colab_type": "text"
      },
      "source": [
        "-Yes, On limiting the record with Price > 0, the overall pattern changed slightly. Their is very weakly Negative Correlation between Price and Rating. That is the slope of  the regression line is slightly negative."
      ]
    },
    {
      "cell_type": "markdown",
      "metadata": {
        "id": "p5Meg7jSpXUP",
        "colab_type": "text"
      },
      "source": [
        "\n",
        "f. What is your overall inference on the effect of price on the rating?"
      ]
    },
    {
      "cell_type": "markdown",
      "metadata": {
        "id": "efP_-cqJpbi7",
        "colab_type": "text"
      },
      "source": [
        "-Usaually the price of the apps does not affect its rating as thier is very less change in the rating of apps for any changes in its price."
      ]
    },
    {
      "cell_type": "markdown",
      "metadata": {
        "id": "-Nop56_8qcrH",
        "colab_type": "text"
      },
      "source": [
        "9. Look at all the numeric interactions together"
      ]
    },
    {
      "cell_type": "markdown",
      "metadata": {
        "id": "i_xu3KCOqiHG",
        "colab_type": "text"
      },
      "source": [
        "a. Make a pairplort with the colulmns - 'Reviews', 'Size', 'Rating', 'Price'."
      ]
    },
    {
      "cell_type": "code",
      "metadata": {
        "id": "1dGWMvnNoOAm",
        "colab_type": "code",
        "outputId": "db88208d-c77d-418d-96d9-8e7ca580002d",
        "colab": {
          "base_uri": "https://localhost:8080/",
          "height": 758
        }
      },
      "source": [
        "sns.pairplot(df, vars=['Reviews', 'Size', 'Rating', 'Price'], kind='reg')\n",
        "plt.show()"
      ],
      "execution_count": 44,
      "outputs": [
        {
          "output_type": "display_data",
          "data": {
            "image/png": "[encoded data removed]",
            "text/plain": [
              "<Figure size 720x720 with 20 Axes>"
            ]
          },
          "metadata": {
            "tags": [],
            "needs_background": "light"
          }
        }
      ]
    },
    {
      "cell_type": "markdown",
      "metadata": {
        "id": "f3Wy2wv0q_LT",
        "colab_type": "text"
      },
      "source": [
        "10. Rating vs. content rating."
      ]
    },
    {
      "cell_type": "markdown",
      "metadata": {
        "id": "NbN7sJaGrA-m",
        "colab_type": "text"
      },
      "source": [
        "a. Make a bar plot displaying the rating for each content rating."
      ]
    },
    {
      "cell_type": "code",
      "metadata": {
        "id": "_6JnAfEAqyHz",
        "colab_type": "code",
        "outputId": "6ba816cf-7965-45a8-9556-4e4a3d8e3097",
        "colab": {
          "base_uri": "https://localhost:8080/",
          "height": 280
        }
      },
      "source": [
        "dfp=df.groupby(['Content Rating'])['Rating'].count()\n",
        "plt.bar(dfp.index,dfp.values,color=\"green\")\n",
        "plt.xlabel('Content Rating')\n",
        "plt.show()"
      ],
      "execution_count": 45,
      "outputs": [
        {
          "output_type": "display_data",
          "data": {
            "image/png": "[encoded data removed]",
            "text/plain": [
              "<Figure size 432x288 with 1 Axes>"
            ]
          },
          "metadata": {
            "tags": [],
            "needs_background": "light"
          }
        }
      ]
    },
    {
      "cell_type": "markdown",
      "metadata": {
        "id": "m8ZW6MRrstr6",
        "colab_type": "text"
      },
      "source": [
        "b. Which metric would you use? Mean? Median? Some other quantile?"
      ]
    },
    {
      "cell_type": "code",
      "metadata": {
        "id": "B6JTCsTXrS2i",
        "colab_type": "code",
        "outputId": "f4833a49-c182-4e43-b4e0-409b4c7c15a6",
        "colab": {
          "base_uri": "https://localhost:8080/",
          "height": 279
        }
      },
      "source": [
        "plt.boxplot(df['Rating'])\n",
        "plt.xlabel('Rating')\n",
        "plt.show()"
      ],
      "execution_count": 46,
      "outputs": [
        {
          "output_type": "display_data",
          "data": {
            "image/png": "[encoded data removed]",
            "text/plain": [
              "<Figure size 432x288 with 1 Axes>"
            ]
          },
          "metadata": {
            "tags": [],
            "needs_background": "light"
          }
        }
      ]
    },
    {
      "cell_type": "markdown",
      "metadata": {
        "id": "m4h-t5lns7zz",
        "colab_type": "text"
      },
      "source": [
        "-We must use Median in this case as we have Outliers in Rating. In case of Outliers , median is the best measure of central tendency."
      ]
    },
    {
      "cell_type": "markdown",
      "metadata": {
        "id": "EU3GBeR3tioH",
        "colab_type": "text"
      },
      "source": [
        "c. Choose the right metric and plot."
      ]
    },
    {
      "cell_type": "code",
      "metadata": {
        "id": "d224EsbQs53o",
        "colab_type": "code",
        "outputId": "2d63a180-a054-4b7d-d07b-59b6abca94c7",
        "colab": {
          "base_uri": "https://localhost:8080/",
          "height": 279
        }
      },
      "source": [
        "dfp1=df.groupby(['Content Rating'])['Rating'].median()\n",
        "plt.bar(dfp1.index,dfp1.values,color=\"blue\")\n",
        "plt.xlabel('Content Rating')\n",
        "plt.show()"
      ],
      "execution_count": 47,
      "outputs": [
        {
          "output_type": "display_data",
          "data": {
            "image/png": "[encoded data removed]",
            "text/plain": [
              "<Figure size 432x288 with 1 Axes>"
            ]
          },
          "metadata": {
            "tags": [],
            "needs_background": "light"
          }
        }
      ]
    },
    {
      "cell_type": "markdown",
      "metadata": {
        "id": "8lneIsTvuRk2",
        "colab_type": "text"
      },
      "source": [
        "11. Content rating vs. size vs. rating – 3 variables at a time."
      ]
    },
    {
      "cell_type": "markdown",
      "metadata": {
        "id": "5V_96b6AvWST",
        "colab_type": "text"
      },
      "source": [
        "a. Create 5 buckets (20% records in each) based on Size."
      ]
    },
    {
      "cell_type": "code",
      "metadata": {
        "id": "2oE2wmo8t-nl",
        "colab_type": "code",
        "outputId": "29422c5f-fbbe-45ab-b536-e2a9eae731cc",
        "colab": {
          "base_uri": "https://localhost:8080/",
          "height": 238
        }
      },
      "source": [
        "bkts=[0, 20000, 40000, 60000, 80000, 100000]\n",
        "df['Bucket Size'] = pd.cut(df['Size'], bkts, labels=['0-20k','20k-40k','40k-60k','60k-80k','80k-100k'])\n",
        "pd.pivot_table(df, values='Rating', index='Bucket Size', columns='Content Rating')"
      ],
      "execution_count": 48,
      "outputs": [
        {
          "output_type": "execute_result",
          "data": {
            "text/html": [
              "<div>\n",
              "<style scoped>\n",
              "    .dataframe tbody tr th:only-of-type {\n",
              "        vertical-align: middle;\n",
              "    }\n",
              "\n",
              "    .dataframe tbody tr th {\n",
              "        vertical-align: top;\n",
              "    }\n",
              "\n",
              "    .dataframe thead th {\n",
              "        text-align: right;\n",
              "    }\n",
              "</style>\n",
              "<table border=\"1\" class=\"dataframe\">\n",
              "  <thead>\n",
              "    <tr style=\"text-align: right;\">\n",
              "      <th>Content Rating</th>\n",
              "      <th>Everyone</th>\n",
              "      <th>Everyone 10+</th>\n",
              "      <th>Mature 17+</th>\n",
              "      <th>Teen</th>\n",
              "    </tr>\n",
              "    <tr>\n",
              "      <th>Bucket Size</th>\n",
              "      <th></th>\n",
              "      <th></th>\n",
              "      <th></th>\n",
              "      <th></th>\n",
              "    </tr>\n",
              "  </thead>\n",
              "  <tbody>\n",
              "    <tr>\n",
              "      <th>0-20k</th>\n",
              "      <td>4.145730</td>\n",
              "      <td>4.247561</td>\n",
              "      <td>4.010582</td>\n",
              "      <td>4.182240</td>\n",
              "    </tr>\n",
              "    <tr>\n",
              "      <th>20k-40k</th>\n",
              "      <td>4.200195</td>\n",
              "      <td>4.169811</td>\n",
              "      <td>4.156291</td>\n",
              "      <td>4.170432</td>\n",
              "    </tr>\n",
              "    <tr>\n",
              "      <th>40k-60k</th>\n",
              "      <td>4.167083</td>\n",
              "      <td>4.263636</td>\n",
              "      <td>4.190476</td>\n",
              "      <td>4.237383</td>\n",
              "    </tr>\n",
              "    <tr>\n",
              "      <th>60k-80k</th>\n",
              "      <td>4.245408</td>\n",
              "      <td>4.280769</td>\n",
              "      <td>4.200000</td>\n",
              "      <td>4.274194</td>\n",
              "    </tr>\n",
              "    <tr>\n",
              "      <th>80k-100k</th>\n",
              "      <td>4.260127</td>\n",
              "      <td>4.304762</td>\n",
              "      <td>4.252632</td>\n",
              "      <td>4.270313</td>\n",
              "    </tr>\n",
              "  </tbody>\n",
              "</table>\n",
              "</div>"
            ],
            "text/plain": [
              "Content Rating  Everyone  Everyone 10+  Mature 17+      Teen\n",
              "Bucket Size                                                 \n",
              "0-20k           4.145730      4.247561    4.010582  4.182240\n",
              "20k-40k         4.200195      4.169811    4.156291  4.170432\n",
              "40k-60k         4.167083      4.263636    4.190476  4.237383\n",
              "60k-80k         4.245408      4.280769    4.200000  4.274194\n",
              "80k-100k        4.260127      4.304762    4.252632  4.270313"
            ]
          },
          "metadata": {
            "tags": []
          },
          "execution_count": 48
        }
      ]
    },
    {
      "cell_type": "markdown",
      "metadata": {
        "id": "07dOAswEwkwy",
        "colab_type": "text"
      },
      "source": [
        "b. By Content Rating vs. Size buckets, get the rating (20th percentile) for each combination."
      ]
    },
    {
      "cell_type": "code",
      "metadata": {
        "id": "7lgRqV7pwCwT",
        "colab_type": "code",
        "outputId": "d666fe8b-437f-4ed7-f83f-942902b54f3c",
        "colab": {
          "base_uri": "https://localhost:8080/",
          "height": 238
        }
      },
      "source": [
        "dft3=pd.pivot_table(df, values='Rating', index='Bucket Size', columns='Content Rating', aggfunc=lambda x:np.quantile(x,0.2))\n",
        "dft3"
      ],
      "execution_count": 49,
      "outputs": [
        {
          "output_type": "execute_result",
          "data": {
            "text/html": [
              "<div>\n",
              "<style scoped>\n",
              "    .dataframe tbody tr th:only-of-type {\n",
              "        vertical-align: middle;\n",
              "    }\n",
              "\n",
              "    .dataframe tbody tr th {\n",
              "        vertical-align: top;\n",
              "    }\n",
              "\n",
              "    .dataframe thead th {\n",
              "        text-align: right;\n",
              "    }\n",
              "</style>\n",
              "<table border=\"1\" class=\"dataframe\">\n",
              "  <thead>\n",
              "    <tr style=\"text-align: right;\">\n",
              "      <th>Content Rating</th>\n",
              "      <th>Everyone</th>\n",
              "      <th>Everyone 10+</th>\n",
              "      <th>Mature 17+</th>\n",
              "      <th>Teen</th>\n",
              "    </tr>\n",
              "    <tr>\n",
              "      <th>Bucket Size</th>\n",
              "      <th></th>\n",
              "      <th></th>\n",
              "      <th></th>\n",
              "      <th></th>\n",
              "    </tr>\n",
              "  </thead>\n",
              "  <tbody>\n",
              "    <tr>\n",
              "      <th>0-20k</th>\n",
              "      <td>3.80</td>\n",
              "      <td>4.02</td>\n",
              "      <td>3.5</td>\n",
              "      <td>3.9</td>\n",
              "    </tr>\n",
              "    <tr>\n",
              "      <th>20k-40k</th>\n",
              "      <td>4.00</td>\n",
              "      <td>4.00</td>\n",
              "      <td>4.0</td>\n",
              "      <td>3.9</td>\n",
              "    </tr>\n",
              "    <tr>\n",
              "      <th>40k-60k</th>\n",
              "      <td>3.90</td>\n",
              "      <td>4.06</td>\n",
              "      <td>4.1</td>\n",
              "      <td>4.0</td>\n",
              "    </tr>\n",
              "    <tr>\n",
              "      <th>60k-80k</th>\n",
              "      <td>4.00</td>\n",
              "      <td>4.00</td>\n",
              "      <td>4.0</td>\n",
              "      <td>4.0</td>\n",
              "    </tr>\n",
              "    <tr>\n",
              "      <th>80k-100k</th>\n",
              "      <td>4.04</td>\n",
              "      <td>4.10</td>\n",
              "      <td>4.0</td>\n",
              "      <td>4.0</td>\n",
              "    </tr>\n",
              "  </tbody>\n",
              "</table>\n",
              "</div>"
            ],
            "text/plain": [
              "Content Rating  Everyone  Everyone 10+  Mature 17+  Teen\n",
              "Bucket Size                                             \n",
              "0-20k               3.80          4.02         3.5   3.9\n",
              "20k-40k             4.00          4.00         4.0   3.9\n",
              "40k-60k             3.90          4.06         4.1   4.0\n",
              "60k-80k             4.00          4.00         4.0   4.0\n",
              "80k-100k            4.04          4.10         4.0   4.0"
            ]
          },
          "metadata": {
            "tags": []
          },
          "execution_count": 49
        }
      ]
    },
    {
      "cell_type": "markdown",
      "metadata": {
        "id": "mD_nfotXxWk_",
        "colab_type": "text"
      },
      "source": [
        "c. Make a heatmap of this."
      ]
    },
    {
      "cell_type": "markdown",
      "metadata": {
        "id": "5g2VJELuxZhP",
        "colab_type": "text"
      },
      "source": [
        "> i. Annotated."
      ]
    },
    {
      "cell_type": "code",
      "metadata": {
        "id": "Dz7EhPKZw6Yz",
        "colab_type": "code",
        "outputId": "4ad5284e-9f41-457a-c800-8b295a083844",
        "colab": {
          "base_uri": "https://localhost:8080/",
          "height": 446
        }
      },
      "source": [
        "f,ax = plt.subplots(figsize=(7, 7))\n",
        "sns.heatmap(dft3, annot=True, linewidths=.5, fmt='.1f',ax=ax)\n",
        "plt.show()"
      ],
      "execution_count": 50,
      "outputs": [
        {
          "output_type": "display_data",
          "data": {
            "image/png": "[encoded data removed]",
            "text/plain": [
              "<Figure size 504x504 with 2 Axes>"
            ]
          },
          "metadata": {
            "tags": [],
            "needs_background": "light"
          }
        }
      ]
    },
    {
      "cell_type": "markdown",
      "metadata": {
        "id": "AOz0Y0Xix4z3",
        "colab_type": "text"
      },
      "source": [
        "> ii.Greens color map."
      ]
    },
    {
      "cell_type": "code",
      "metadata": {
        "id": "OOnUccPEx0SR",
        "colab_type": "code",
        "outputId": "961043fc-d019-4f71-836b-6ed82bb40af3",
        "colab": {
          "base_uri": "https://localhost:8080/",
          "height": 446
        }
      },
      "source": [
        "f,ax = plt.subplots(figsize=(7, 7))\n",
        "sns.heatmap(dft3, annot=True, linewidths=.5, cmap='Greens',fmt='.1f',ax=ax)\n",
        "plt.show()"
      ],
      "execution_count": 51,
      "outputs": [
        {
          "output_type": "display_data",
          "data": {
            "image/png": "[encoded data removed]",
            "text/plain": [
              "<Figure size 504x504 with 2 Axes>"
            ]
          },
          "metadata": {
            "tags": [],
            "needs_background": "light"
          }
        }
      ]
    },
    {
      "cell_type": "markdown",
      "metadata": {
        "id": "1HoBJ8p3yW9t",
        "colab_type": "text"
      },
      "source": [
        "d. What’s your inference? Are lighter apps preferred in all categories? Heavier? Some?"
      ]
    },
    {
      "cell_type": "markdown",
      "metadata": {
        "id": "9QcWF_Ffydk5",
        "colab_type": "text"
      },
      "source": [
        "-Based on analysis, its not true that lighter apps are preferred in all categories. Because apps with size 40k-60k and 80k-100k have got the highest rating in all cateegories. So, in general we can conclude that heavier apps are preferred in all categories."
      ]
    }
  ]
}