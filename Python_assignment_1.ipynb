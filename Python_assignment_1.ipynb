{
  "nbformat": 4,
  "nbformat_minor": 0,
  "metadata": {
    "kernelspec": {
      "display_name": "Python 3",
      "language": "python",
      "name": "python3"
    },
    "language_info": {
      "codemirror_mode": {
        "name": "ipython",
        "version": 3
      },
      "file_extension": ".py",
      "mimetype": "text/x-python",
      "name": "python",
      "nbconvert_exporter": "python",
      "pygments_lexer": "ipython3",
      "version": "3.7.6"
    },
    "colab": {
      "name": "Python_assignment_1.ipynb",
      "provenance": [],
      "collapsed_sections": [],
      "include_colab_link": true
    }
  },
  "cells": [
    {
      "cell_type": "markdown",
      "metadata": {
        "id": "view-in-github",
        "colab_type": "text"
      },
      "source": [
        "<a href=\"https://colab.research.google.com/github/pck196/Python_Assignment/blob/master/Python_assignment_1.ipynb\" target=\"_parent\"><img src=\"https://colab.research.google.com/assets/colab-badge.svg\" alt=\"Open In Colab\"/></a>"
      ]
    },
    {
      "cell_type": "code",
      "metadata": {
        "id": "NGwgpaMIOwcB",
        "colab_type": "code",
        "outputId": "bf810b3a-7f38-43d6-f723-d7abb4038d1e",
        "colab": {
          "base_uri": "https://localhost:8080/",
          "height": 146
        }
      },
      "source": [
        "#Importing pandas, numpy and seaborn\n",
        "!pip3 install pandas --upgrade\n",
        "import numpy as np\n",
        "import pandas as pd\n",
        "import matplotlib.pyplot as plt\n",
        "import seaborn as sns"
      ],
      "execution_count": 1,
      "outputs": [
        {
          "output_type": "stream",
          "text": [
            "Requirement already up-to-date: pandas in /usr/local/lib/python3.6/dist-packages (1.0.3)\n",
            "Requirement already satisfied, skipping upgrade: python-dateutil>=2.6.1 in /usr/local/lib/python3.6/dist-packages (from pandas) (2.8.1)\n",
            "Requirement already satisfied, skipping upgrade: numpy>=1.13.3 in /usr/local/lib/python3.6/dist-packages (from pandas) (1.18.3)\n",
            "Requirement already satisfied, skipping upgrade: pytz>=2017.2 in /usr/local/lib/python3.6/dist-packages (from pandas) (2018.9)\n",
            "Requirement already satisfied, skipping upgrade: six>=1.5 in /usr/local/lib/python3.6/dist-packages (from python-dateutil>=2.6.1->pandas) (1.12.0)\n"
          ],
          "name": "stdout"
        },
        {
          "output_type": "stream",
          "text": [
            "/usr/local/lib/python3.6/dist-packages/statsmodels/tools/_testing.py:19: FutureWarning: pandas.util.testing is deprecated. Use the functions in the public API at pandas.testing instead.\n",
            "  import pandas.util.testing as tm\n"
          ],
          "name": "stderr"
        }
      ]
    },
    {
      "cell_type": "code",
      "metadata": {
        "id": "tKE5wnxjOwcR",
        "colab_type": "code",
        "outputId": "f1773f86-4361-462b-8f8e-f60dfbed08f6",
        "colab": {
          "base_uri": "https://localhost:8080/",
          "height": 72
        }
      },
      "source": [
        "#Checking panda version\n",
        "print(np.__version__)\n",
        "print(pd.__version__)\n",
        "print(sns.__version__)"
      ],
      "execution_count": 2,
      "outputs": [
        {
          "output_type": "stream",
          "text": [
            "1.18.3\n",
            "1.0.3\n",
            "0.10.1\n"
          ],
          "name": "stdout"
        }
      ]
    },
    {
      "cell_type": "code",
      "metadata": {
        "id": "ibT6EV6eOwcf",
        "colab_type": "code",
        "outputId": "d79ac64b-a2c3-405d-9127-00c4bbde667a",
        "colab": {
          "base_uri": "https://localhost:8080/",
          "height": 206
        }
      },
      "source": [
        "#Importing data file\n",
        "df=pd.read_csv(\"https://raw.githubusercontent.com/pck196/Python_Assignment/master/Tips_Quick_EDA_exercise.csv\")\n",
        "df.head()"
      ],
      "execution_count": 3,
      "outputs": [
        {
          "output_type": "execute_result",
          "data": {
            "text/html": [
              "<div>\n",
              "<style scoped>\n",
              "    .dataframe tbody tr th:only-of-type {\n",
              "        vertical-align: middle;\n",
              "    }\n",
              "\n",
              "    .dataframe tbody tr th {\n",
              "        vertical-align: top;\n",
              "    }\n",
              "\n",
              "    .dataframe thead th {\n",
              "        text-align: right;\n",
              "    }\n",
              "</style>\n",
              "<table border=\"1\" class=\"dataframe\">\n",
              "  <thead>\n",
              "    <tr style=\"text-align: right;\">\n",
              "      <th></th>\n",
              "      <th>total_bill</th>\n",
              "      <th>tip</th>\n",
              "      <th>sex</th>\n",
              "      <th>smoker</th>\n",
              "      <th>day</th>\n",
              "      <th>time</th>\n",
              "      <th>size</th>\n",
              "    </tr>\n",
              "  </thead>\n",
              "  <tbody>\n",
              "    <tr>\n",
              "      <th>0</th>\n",
              "      <td>16.99</td>\n",
              "      <td>1.01</td>\n",
              "      <td>Female</td>\n",
              "      <td>No</td>\n",
              "      <td>Sun</td>\n",
              "      <td>Dinner</td>\n",
              "      <td>2.0</td>\n",
              "    </tr>\n",
              "    <tr>\n",
              "      <th>1</th>\n",
              "      <td>10.34</td>\n",
              "      <td>1.66</td>\n",
              "      <td>Male</td>\n",
              "      <td>No</td>\n",
              "      <td>Sun</td>\n",
              "      <td>Dinner</td>\n",
              "      <td>3.0</td>\n",
              "    </tr>\n",
              "    <tr>\n",
              "      <th>2</th>\n",
              "      <td>21.01</td>\n",
              "      <td>3.50</td>\n",
              "      <td>Male</td>\n",
              "      <td>No</td>\n",
              "      <td>Sun</td>\n",
              "      <td>Dinner</td>\n",
              "      <td>3.0</td>\n",
              "    </tr>\n",
              "    <tr>\n",
              "      <th>3</th>\n",
              "      <td>23.68</td>\n",
              "      <td>3.31</td>\n",
              "      <td>Male</td>\n",
              "      <td>No</td>\n",
              "      <td>Sun</td>\n",
              "      <td>Dinner</td>\n",
              "      <td>2.0</td>\n",
              "    </tr>\n",
              "    <tr>\n",
              "      <th>4</th>\n",
              "      <td>24.59</td>\n",
              "      <td>3.61</td>\n",
              "      <td>Female</td>\n",
              "      <td>No</td>\n",
              "      <td>Sun</td>\n",
              "      <td>Dinner</td>\n",
              "      <td>4.0</td>\n",
              "    </tr>\n",
              "  </tbody>\n",
              "</table>\n",
              "</div>"
            ],
            "text/plain": [
              "   total_bill   tip     sex smoker  day    time  size\n",
              "0       16.99  1.01  Female     No  Sun  Dinner   2.0\n",
              "1       10.34  1.66    Male     No  Sun  Dinner   3.0\n",
              "2       21.01  3.50    Male     No  Sun  Dinner   3.0\n",
              "3       23.68  3.31    Male     No  Sun  Dinner   2.0\n",
              "4       24.59  3.61  Female     No  Sun  Dinner   4.0"
            ]
          },
          "metadata": {
            "tags": []
          },
          "execution_count": 3
        }
      ]
    },
    {
      "cell_type": "code",
      "metadata": {
        "id": "E4twI4S1Vu-r",
        "colab_type": "code",
        "outputId": "195b9c49-2c38-4b5b-f13f-91d7e681d0c1",
        "colab": {
          "base_uri": "https://localhost:8080/",
          "height": 128
        }
      },
      "source": [
        "#Finding empty values in table\n",
        "empty_columns=df.columns[df.isna().any()]\n",
        "df[empty_columns].isna().sum()"
      ],
      "execution_count": 4,
      "outputs": [
        {
          "output_type": "execute_result",
          "data": {
            "text/plain": [
              "total_bill    1\n",
              "tip           1\n",
              "day           1\n",
              "time          1\n",
              "size          1\n",
              "dtype: int64"
            ]
          },
          "metadata": {
            "tags": []
          },
          "execution_count": 4
        }
      ]
    },
    {
      "cell_type": "code",
      "metadata": {
        "id": "9b8RkG3KOwcq",
        "colab_type": "code",
        "outputId": "1404154a-5f24-4aa8-a55b-6c61d0257f41",
        "colab": {
          "base_uri": "https://localhost:8080/",
          "height": 424
        }
      },
      "source": [
        "#Deleting unwanted rows\n",
        "df1=df.dropna()\n",
        "df1"
      ],
      "execution_count": 5,
      "outputs": [
        {
          "output_type": "execute_result",
          "data": {
            "text/html": [
              "<div>\n",
              "<style scoped>\n",
              "    .dataframe tbody tr th:only-of-type {\n",
              "        vertical-align: middle;\n",
              "    }\n",
              "\n",
              "    .dataframe tbody tr th {\n",
              "        vertical-align: top;\n",
              "    }\n",
              "\n",
              "    .dataframe thead th {\n",
              "        text-align: right;\n",
              "    }\n",
              "</style>\n",
              "<table border=\"1\" class=\"dataframe\">\n",
              "  <thead>\n",
              "    <tr style=\"text-align: right;\">\n",
              "      <th></th>\n",
              "      <th>total_bill</th>\n",
              "      <th>tip</th>\n",
              "      <th>sex</th>\n",
              "      <th>smoker</th>\n",
              "      <th>day</th>\n",
              "      <th>time</th>\n",
              "      <th>size</th>\n",
              "    </tr>\n",
              "  </thead>\n",
              "  <tbody>\n",
              "    <tr>\n",
              "      <th>0</th>\n",
              "      <td>16.99</td>\n",
              "      <td>1.01</td>\n",
              "      <td>Female</td>\n",
              "      <td>No</td>\n",
              "      <td>Sun</td>\n",
              "      <td>Dinner</td>\n",
              "      <td>2.0</td>\n",
              "    </tr>\n",
              "    <tr>\n",
              "      <th>1</th>\n",
              "      <td>10.34</td>\n",
              "      <td>1.66</td>\n",
              "      <td>Male</td>\n",
              "      <td>No</td>\n",
              "      <td>Sun</td>\n",
              "      <td>Dinner</td>\n",
              "      <td>3.0</td>\n",
              "    </tr>\n",
              "    <tr>\n",
              "      <th>2</th>\n",
              "      <td>21.01</td>\n",
              "      <td>3.50</td>\n",
              "      <td>Male</td>\n",
              "      <td>No</td>\n",
              "      <td>Sun</td>\n",
              "      <td>Dinner</td>\n",
              "      <td>3.0</td>\n",
              "    </tr>\n",
              "    <tr>\n",
              "      <th>3</th>\n",
              "      <td>23.68</td>\n",
              "      <td>3.31</td>\n",
              "      <td>Male</td>\n",
              "      <td>No</td>\n",
              "      <td>Sun</td>\n",
              "      <td>Dinner</td>\n",
              "      <td>2.0</td>\n",
              "    </tr>\n",
              "    <tr>\n",
              "      <th>4</th>\n",
              "      <td>24.59</td>\n",
              "      <td>3.61</td>\n",
              "      <td>Female</td>\n",
              "      <td>No</td>\n",
              "      <td>Sun</td>\n",
              "      <td>Dinner</td>\n",
              "      <td>4.0</td>\n",
              "    </tr>\n",
              "    <tr>\n",
              "      <th>...</th>\n",
              "      <td>...</td>\n",
              "      <td>...</td>\n",
              "      <td>...</td>\n",
              "      <td>...</td>\n",
              "      <td>...</td>\n",
              "      <td>...</td>\n",
              "      <td>...</td>\n",
              "    </tr>\n",
              "    <tr>\n",
              "      <th>239</th>\n",
              "      <td>29.03</td>\n",
              "      <td>5.92</td>\n",
              "      <td>Male</td>\n",
              "      <td>No</td>\n",
              "      <td>Sat</td>\n",
              "      <td>Dinner</td>\n",
              "      <td>3.0</td>\n",
              "    </tr>\n",
              "    <tr>\n",
              "      <th>240</th>\n",
              "      <td>27.18</td>\n",
              "      <td>2.00</td>\n",
              "      <td>Female</td>\n",
              "      <td>Yes</td>\n",
              "      <td>Sat</td>\n",
              "      <td>Dinner</td>\n",
              "      <td>2.0</td>\n",
              "    </tr>\n",
              "    <tr>\n",
              "      <th>241</th>\n",
              "      <td>22.67</td>\n",
              "      <td>2.00</td>\n",
              "      <td>Male</td>\n",
              "      <td>Yes</td>\n",
              "      <td>Sat</td>\n",
              "      <td>Dinner</td>\n",
              "      <td>2.0</td>\n",
              "    </tr>\n",
              "    <tr>\n",
              "      <th>242</th>\n",
              "      <td>17.82</td>\n",
              "      <td>1.75</td>\n",
              "      <td>Male</td>\n",
              "      <td>No</td>\n",
              "      <td>Sat</td>\n",
              "      <td>Dinner</td>\n",
              "      <td>2.0</td>\n",
              "    </tr>\n",
              "    <tr>\n",
              "      <th>243</th>\n",
              "      <td>18.78</td>\n",
              "      <td>3.00</td>\n",
              "      <td>Female</td>\n",
              "      <td>No</td>\n",
              "      <td>Thur</td>\n",
              "      <td>Dinner</td>\n",
              "      <td>2.0</td>\n",
              "    </tr>\n",
              "  </tbody>\n",
              "</table>\n",
              "<p>244 rows × 7 columns</p>\n",
              "</div>"
            ],
            "text/plain": [
              "     total_bill   tip     sex smoker   day    time  size\n",
              "0         16.99  1.01  Female     No   Sun  Dinner   2.0\n",
              "1         10.34  1.66    Male     No   Sun  Dinner   3.0\n",
              "2         21.01  3.50    Male     No   Sun  Dinner   3.0\n",
              "3         23.68  3.31    Male     No   Sun  Dinner   2.0\n",
              "4         24.59  3.61  Female     No   Sun  Dinner   4.0\n",
              "..          ...   ...     ...    ...   ...     ...   ...\n",
              "239       29.03  5.92    Male     No   Sat  Dinner   3.0\n",
              "240       27.18  2.00  Female    Yes   Sat  Dinner   2.0\n",
              "241       22.67  2.00    Male    Yes   Sat  Dinner   2.0\n",
              "242       17.82  1.75    Male     No   Sat  Dinner   2.0\n",
              "243       18.78  3.00  Female     No  Thur  Dinner   2.0\n",
              "\n",
              "[244 rows x 7 columns]"
            ]
          },
          "metadata": {
            "tags": []
          },
          "execution_count": 5
        }
      ]
    },
    {
      "cell_type": "code",
      "metadata": {
        "id": "Dt7pqCeUOwc8",
        "colab_type": "code",
        "outputId": "8d976597-7101-456c-9a18-6cab8674f6a5",
        "colab": {
          "base_uri": "https://localhost:8080/",
          "height": 35
        }
      },
      "source": [
        "#Finding empty values in table\n",
        "empty_columns1=df1.columns[df1.isna().any()]\n",
        "df1[empty_columns1].isna().sum()"
      ],
      "execution_count": 6,
      "outputs": [
        {
          "output_type": "execute_result",
          "data": {
            "text/plain": [
              "Series([], dtype: float64)"
            ]
          },
          "metadata": {
            "tags": []
          },
          "execution_count": 6
        }
      ]
    },
    {
      "cell_type": "markdown",
      "metadata": {
        "id": "Lu0CVKTsYEUF",
        "colab_type": "text"
      },
      "source": [
        "As no empty cell was found in the table, Now we can proceed with working on data to solve problems."
      ]
    },
    {
      "cell_type": "markdown",
      "metadata": {
        "id": "pjDcBhm3nsxh",
        "colab_type": "text"
      },
      "source": [
        "Question 1:- What is the overall average tip?"
      ]
    },
    {
      "cell_type": "code",
      "metadata": {
        "id": "lG7gjvWEOwdR",
        "colab_type": "code",
        "outputId": "a4998f76-506f-4bbe-bc8e-40ef2222505d",
        "colab": {
          "base_uri": "https://localhost:8080/",
          "height": 35
        }
      },
      "source": [
        "print('The overall average tip is',str(round(df1.tip.mean(),2))+'.')"
      ],
      "execution_count": 7,
      "outputs": [
        {
          "output_type": "stream",
          "text": [
            "The overall average tip is 3.0.\n"
          ],
          "name": "stdout"
        }
      ]
    },
    {
      "cell_type": "markdown",
      "metadata": {
        "id": "PjL64Wlroe7C",
        "colab_type": "text"
      },
      "source": [
        "Question 2:- Get a numerical summary for 'tip'.\n",
        "             Are the median and mean very different?\n",
        "             What does this tell you about the field?"
      ]
    },
    {
      "cell_type": "code",
      "metadata": {
        "id": "K0AQOmjQaeRs",
        "colab_type": "code",
        "outputId": "a08dcf8c-aa29-4ca8-dec5-4d6fe05b6da0",
        "colab": {
          "base_uri": "https://localhost:8080/",
          "height": 239
        }
      },
      "source": [
        "print('1.Numerical summary for tip is:-')\n",
        "print(df1.tip.describe())\n",
        "print(\"2.For the column 'tip' Median is\",round(df1.tip.median(),3),'and','Mean is',round(df1.tip.mean(),3),\"we can see that Mean and Meadian are not so different.\\n3.This tels us that probably there are no outliers in the field 'tip'.\")"
      ],
      "execution_count": 8,
      "outputs": [
        {
          "output_type": "stream",
          "text": [
            "1.Numerical summary for tip is:-\n",
            "count    244.000000\n",
            "mean       2.998279\n",
            "std        1.383638\n",
            "min        1.000000\n",
            "25%        2.000000\n",
            "50%        2.900000\n",
            "75%        3.562500\n",
            "max       10.000000\n",
            "Name: tip, dtype: float64\n",
            "2.For the column 'tip' Median is 2.9 and Mean is 2.998 we can see that Mean and Meadian are not so different.\n",
            "3.This tels us that probably there are no outliers in the field 'tip'.\n"
          ],
          "name": "stdout"
        }
      ]
    },
    {
      "cell_type": "markdown",
      "metadata": {
        "id": "Lyx_TlyQ8emY",
        "colab_type": "text"
      },
      "source": [
        "Question 3:- Prepare a boxplot for 'tip', Are there any outliers?"
      ]
    },
    {
      "cell_type": "code",
      "metadata": {
        "id": "0yi8vthRwGEI",
        "colab_type": "code",
        "outputId": "effd1d88-b157-4025-f276-3e9a47a93e58",
        "colab": {
          "base_uri": "https://localhost:8080/",
          "height": 283
        }
      },
      "source": [
        "%matplotlib inline\n",
        "df1.tip.plot.box()\n",
        "plt.show()\n",
        "print(\"From this boxplot we can clearly see that their are Outliers in the field 'tip'.\")"
      ],
      "execution_count": 10,
      "outputs": [
        {
          "output_type": "display_data",
          "data": {
            "image/png": "[encoded data removed]",
            "text/plain": [
              "<Figure size 432x288 with 1 Axes>"
            ]
          },
          "metadata": {
            "tags": [],
            "needs_background": "light"
          }
        },
        {
          "output_type": "stream",
          "text": [
            "From this boxplot we can clearly see that their are Outliers in the field 'tip'.\n"
          ],
          "name": "stdout"
        }
      ]
    },
    {
      "cell_type": "markdown",
      "metadata": {
        "id": "0Bso9l8LCLCm",
        "colab_type": "text"
      },
      "source": [
        "Question 4:- Prepare a boxplot for 'total_bill', are there any outliers?"
      ]
    },
    {
      "cell_type": "code",
      "metadata": {
        "id": "MKIT8cDVCJgl",
        "colab_type": "code",
        "outputId": "6f334ea5-ece9-4b2d-c2c5-4302ec3a1f1c",
        "colab": {
          "base_uri": "https://localhost:8080/",
          "height": 284
        }
      },
      "source": [
        "df1.total_bill.plot.box()\n",
        "plt.show()\n",
        "print(\"From this boxplot we can clearly see that their are Outliers in the field 'total_bill'.\")"
      ],
      "execution_count": 11,
      "outputs": [
        {
          "output_type": "display_data",
          "data": {
            "image/png": "[encoded data removed]",
            "text/plain": [
              "<Figure size 432x288 with 1 Axes>"
            ]
          },
          "metadata": {
            "tags": [],
            "needs_background": "light"
          }
        },
        {
          "output_type": "stream",
          "text": [
            "From this boxplot we can clearly see that their are Outliers in the field 'total_bill'.\n"
          ],
          "name": "stdout"
        }
      ]
    },
    {
      "cell_type": "markdown",
      "metadata": {
        "id": "7OKDocVUDe0z",
        "colab_type": "text"
      },
      "source": [
        "Question 5:- Gender: what is the percent of females in the data?"
      ]
    },
    {
      "cell_type": "code",
      "metadata": {
        "id": "HT7SdE1KDnu9",
        "colab_type": "code",
        "outputId": "7b987d42-1bf5-45e9-997a-aee249fa9241",
        "colab": {
          "base_uri": "https://localhost:8080/",
          "height": 91
        }
      },
      "source": [
        "prct=df1.sex.value_counts(normalize=True)\n",
        "print(prct,'\\nThe percentage of females in the data are 35.68%.')"
      ],
      "execution_count": 12,
      "outputs": [
        {
          "output_type": "stream",
          "text": [
            "Male      0.643443\n",
            "Female    0.356557\n",
            "Name: sex, dtype: float64 \n",
            "The percentage of females in the data are 35.68%.\n"
          ],
          "name": "stdout"
        }
      ]
    },
    {
      "cell_type": "markdown",
      "metadata": {
        "id": "WbSIkQUwx3ZR",
        "colab_type": "text"
      },
      "source": [
        "Question 6:- Prepare a bar plot with the bars representing the percentage of records for each gender."
      ]
    },
    {
      "cell_type": "code",
      "metadata": {
        "id": "0gghOuILyByv",
        "colab_type": "code",
        "outputId": "39b84d40-35da-4b54-aa33-51f0da200492",
        "colab": {
          "base_uri": "https://localhost:8080/",
          "height": 279
        }
      },
      "source": [
        "plt.bar(prct.index, prct.values, color=\"blue\")\n",
        "plt.xlabel('Sex')\n",
        "plt.show()"
      ],
      "execution_count": 13,
      "outputs": [
        {
          "output_type": "display_data",
          "data": {
            "image/png": "[encoded data removed]",
            "text/plain": [
              "<Figure size 432x288 with 1 Axes>"
            ]
          },
          "metadata": {
            "tags": [],
            "needs_background": "light"
          }
        }
      ]
    },
    {
      "cell_type": "markdown",
      "metadata": {
        "id": "eaftLsHGy_sw",
        "colab_type": "text"
      },
      "source": [
        "Question 7:- Does the average tip differ by gender? Does one gender tip more than the other?"
      ]
    },
    {
      "cell_type": "code",
      "metadata": {
        "id": "43WVbkERzOvO",
        "colab_type": "code",
        "outputId": "9d80905b-e998-49c9-c68b-59fc17879698",
        "colab": {
          "base_uri": "https://localhost:8080/",
          "height": 316
        }
      },
      "source": [
        "gbs=df1.groupby(['sex'])['tip'].mean()\n",
        "plt.bar(gbs.index,gbs.values,color=\"green\")\n",
        "plt.xlabel('Sex')\n",
        "plt.show()\n",
        "print('Yes, The average tip differs by gender.\\nWe can see from the barchart, Male tip more than Female.')"
      ],
      "execution_count": 14,
      "outputs": [
        {
          "output_type": "display_data",
          "data": {
            "image/png": "[encoded data removed]",
            "text/plain": [
              "<Figure size 432x288 with 1 Axes>"
            ]
          },
          "metadata": {
            "tags": [],
            "needs_background": "light"
          }
        },
        {
          "output_type": "stream",
          "text": [
            "Yes, The average tip differs by gender.\n",
            "We can see from the barchart, Male tip more than Female.\n"
          ],
          "name": "stdout"
        }
      ]
    },
    {
      "cell_type": "markdown",
      "metadata": {
        "id": "N-LLrUUn6xKv",
        "colab_type": "text"
      },
      "source": [
        "Question 8:- Does the average tip differ by the time of day?"
      ]
    },
    {
      "cell_type": "code",
      "metadata": {
        "id": "WF1lH5LV63dw",
        "colab_type": "code",
        "outputId": "063b9f9a-f67c-463c-d5e4-f164c42fb1b5",
        "colab": {
          "base_uri": "https://localhost:8080/",
          "height": 316
        }
      },
      "source": [
        "gbt=df1.groupby(['time'])['tip'].mean()\n",
        "plt.bar(gbt.index,gbt.values,color=\"red\")\n",
        "plt.xlabel('Time')\n",
        "plt.show()\n",
        "print('Yes, The average tip differs by time of the day.\\nWe can see from the barchart that people tip more at Dinner than at Lunch.')"
      ],
      "execution_count": 15,
      "outputs": [
        {
          "output_type": "display_data",
          "data": {
            "image/png": "[encoded data removed]",
            "text/plain": [
              "<Figure size 432x288 with 1 Axes>"
            ]
          },
          "metadata": {
            "tags": [],
            "needs_background": "light"
          }
        },
        {
          "output_type": "stream",
          "text": [
            "Yes, The average tip differs by time of the day.\n",
            "We can see from the barchart that people tip more at Dinner than at Lunch.\n"
          ],
          "name": "stdout"
        }
      ]
    },
    {
      "cell_type": "markdown",
      "metadata": {
        "id": "OD2faoie9Wjb",
        "colab_type": "text"
      },
      "source": [
        "Question 9:- Does the average tip differ by size (number of people at the table)?"
      ]
    },
    {
      "cell_type": "code",
      "metadata": {
        "id": "41in4zpp9hmB",
        "colab_type": "code",
        "outputId": "d8eec184-2f42-4456-b413-da8712e5a464",
        "colab": {
          "base_uri": "https://localhost:8080/",
          "height": 316
        }
      },
      "source": [
        "gbsi=df1.groupby(['size'])['tip'].mean()\n",
        "plt.bar(gbsi.index,gbsi.values,color=\"yellow\")\n",
        "plt.xlabel('Size')\n",
        "plt.show()\n",
        "print('Yes, The average tip differs by number of people at table.\\nWe can see from the barchart that tip increase as people at table increase.')"
      ],
      "execution_count": 16,
      "outputs": [
        {
          "output_type": "display_data",
          "data": {
            "image/png": "[encoded data removed]",
            "text/plain": [
              "<Figure size 432x288 with 1 Axes>"
            ]
          },
          "metadata": {
            "tags": [],
            "needs_background": "light"
          }
        },
        {
          "output_type": "stream",
          "text": [
            "Yes, The average tip differs by number of people at table.\n",
            "We can see from the barchart that tip increase as people at table increase.\n"
          ],
          "name": "stdout"
        }
      ]
    },
    {
      "cell_type": "markdown",
      "metadata": {
        "id": "AUTZ4WQWA4eK",
        "colab_type": "text"
      },
      "source": [
        "Question 10:- Do smokers tip more than non-smokers?"
      ]
    },
    {
      "cell_type": "code",
      "metadata": {
        "id": "8lPXaOy8-XPq",
        "colab_type": "code",
        "outputId": "1fc14331-4ca2-4b49-b23d-4fea9ccec878",
        "colab": {
          "base_uri": "https://localhost:8080/",
          "height": 297
        }
      },
      "source": [
        "gbsm=df1.groupby(['smoker'])['tip'].count()\n",
        "plt.bar(gbsm.index,gbsm.values,color=\"orange\")\n",
        "plt.xlabel('Smoker')\n",
        "plt.show()\n",
        "print('No, The Smokers tip less than Non-Smokers as seen in the barchart.')"
      ],
      "execution_count": 17,
      "outputs": [
        {
          "output_type": "display_data",
          "data": {
            "image/png": "[encoded data removed]",
            "text/plain": [
              "<Figure size 432x288 with 1 Axes>"
            ]
          },
          "metadata": {
            "tags": [],
            "needs_background": "light"
          }
        },
        {
          "output_type": "stream",
          "text": [
            "No, The Smokers tip less than Non-Smokers as seen in the barchart.\n"
          ],
          "name": "stdout"
        }
      ]
    },
    {
      "cell_type": "markdown",
      "metadata": {
        "id": "J1Tgxr8WCG6d",
        "colab_type": "text"
      },
      "source": [
        "Question 11:- Gender vs. smoker/non-smoker and tip size - create a 2 by 2 and get the average tip size. Which group tips the most?"
      ]
    },
    {
      "cell_type": "code",
      "metadata": {
        "id": "MtZ_4DPFCVTR",
        "colab_type": "code",
        "outputId": "2a36754f-8d93-46d0-b001-6bb40ca23d7d",
        "colab": {
          "base_uri": "https://localhost:8080/",
          "height": 427
        }
      },
      "source": [
        "print(round(df1.groupby(['sex','smoker'])['tip'].mean().unstack(),3))\n",
        "df1.groupby(['smoker','sex'])['tip'].mean().plot.bar(color=\"darkgreen\")\n",
        "plt.show()\n",
        "print('The Non-Smoker Male group tips the most.')"
      ],
      "execution_count": 18,
      "outputs": [
        {
          "output_type": "stream",
          "text": [
            "smoker     No    Yes\n",
            "sex                 \n",
            "Female  2.774  2.932\n",
            "Male    3.113  3.051\n"
          ],
          "name": "stdout"
        },
        {
          "output_type": "display_data",
          "data": {
            "image/png": "[encoded data removed]",
            "text/plain": [
              "<Figure size 432x288 with 1 Axes>"
            ]
          },
          "metadata": {
            "tags": [],
            "needs_background": "light"
          }
        },
        {
          "output_type": "stream",
          "text": [
            "The Non-Smoker Male group tips the most.\n"
          ],
          "name": "stdout"
        }
      ]
    },
    {
      "cell_type": "markdown",
      "metadata": {
        "id": "TEVEtExgI2Yz",
        "colab_type": "text"
      },
      "source": [
        "Question 12:- Create a new metric called 'pct_tip' = tip/ total_bill - this would be percent tip given, and should be a better measure of the tipping behaviour."
      ]
    },
    {
      "cell_type": "code",
      "metadata": {
        "id": "OygIpIeEH4HG",
        "colab_type": "code",
        "outputId": "28f28b77-8601-445c-a22c-e90fd66a0a39",
        "colab": {
          "base_uri": "https://localhost:8080/",
          "height": 206
        }
      },
      "source": [
        "df1.insert(2,\"pct_tip\",df1.tip/df1.total_bill)\n",
        "df1.head()"
      ],
      "execution_count": 19,
      "outputs": [
        {
          "output_type": "execute_result",
          "data": {
            "text/html": [
              "<div>\n",
              "<style scoped>\n",
              "    .dataframe tbody tr th:only-of-type {\n",
              "        vertical-align: middle;\n",
              "    }\n",
              "\n",
              "    .dataframe tbody tr th {\n",
              "        vertical-align: top;\n",
              "    }\n",
              "\n",
              "    .dataframe thead th {\n",
              "        text-align: right;\n",
              "    }\n",
              "</style>\n",
              "<table border=\"1\" class=\"dataframe\">\n",
              "  <thead>\n",
              "    <tr style=\"text-align: right;\">\n",
              "      <th></th>\n",
              "      <th>total_bill</th>\n",
              "      <th>tip</th>\n",
              "      <th>pct_tip</th>\n",
              "      <th>sex</th>\n",
              "      <th>smoker</th>\n",
              "      <th>day</th>\n",
              "      <th>time</th>\n",
              "      <th>size</th>\n",
              "    </tr>\n",
              "  </thead>\n",
              "  <tbody>\n",
              "    <tr>\n",
              "      <th>0</th>\n",
              "      <td>16.99</td>\n",
              "      <td>1.01</td>\n",
              "      <td>0.059447</td>\n",
              "      <td>Female</td>\n",
              "      <td>No</td>\n",
              "      <td>Sun</td>\n",
              "      <td>Dinner</td>\n",
              "      <td>2.0</td>\n",
              "    </tr>\n",
              "    <tr>\n",
              "      <th>1</th>\n",
              "      <td>10.34</td>\n",
              "      <td>1.66</td>\n",
              "      <td>0.160542</td>\n",
              "      <td>Male</td>\n",
              "      <td>No</td>\n",
              "      <td>Sun</td>\n",
              "      <td>Dinner</td>\n",
              "      <td>3.0</td>\n",
              "    </tr>\n",
              "    <tr>\n",
              "      <th>2</th>\n",
              "      <td>21.01</td>\n",
              "      <td>3.50</td>\n",
              "      <td>0.166587</td>\n",
              "      <td>Male</td>\n",
              "      <td>No</td>\n",
              "      <td>Sun</td>\n",
              "      <td>Dinner</td>\n",
              "      <td>3.0</td>\n",
              "    </tr>\n",
              "    <tr>\n",
              "      <th>3</th>\n",
              "      <td>23.68</td>\n",
              "      <td>3.31</td>\n",
              "      <td>0.139780</td>\n",
              "      <td>Male</td>\n",
              "      <td>No</td>\n",
              "      <td>Sun</td>\n",
              "      <td>Dinner</td>\n",
              "      <td>2.0</td>\n",
              "    </tr>\n",
              "    <tr>\n",
              "      <th>4</th>\n",
              "      <td>24.59</td>\n",
              "      <td>3.61</td>\n",
              "      <td>0.146808</td>\n",
              "      <td>Female</td>\n",
              "      <td>No</td>\n",
              "      <td>Sun</td>\n",
              "      <td>Dinner</td>\n",
              "      <td>4.0</td>\n",
              "    </tr>\n",
              "  </tbody>\n",
              "</table>\n",
              "</div>"
            ],
            "text/plain": [
              "   total_bill   tip   pct_tip     sex smoker  day    time  size\n",
              "0       16.99  1.01  0.059447  Female     No  Sun  Dinner   2.0\n",
              "1       10.34  1.66  0.160542    Male     No  Sun  Dinner   3.0\n",
              "2       21.01  3.50  0.166587    Male     No  Sun  Dinner   3.0\n",
              "3       23.68  3.31  0.139780    Male     No  Sun  Dinner   2.0\n",
              "4       24.59  3.61  0.146808  Female     No  Sun  Dinner   4.0"
            ]
          },
          "metadata": {
            "tags": []
          },
          "execution_count": 19
        }
      ]
    },
    {
      "cell_type": "markdown",
      "metadata": {
        "id": "38d1-x-iKDsJ",
        "colab_type": "text"
      },
      "source": [
        "Question 13:- Does pct_tip differ by gender? Does one gender tip more than the other?"
      ]
    },
    {
      "cell_type": "code",
      "metadata": {
        "id": "Y2e8KjToKMn2",
        "colab_type": "code",
        "outputId": "760a4c0c-072b-46cf-aa6a-e7191b58e1ed",
        "colab": {
          "base_uri": "https://localhost:8080/",
          "height": 316
        }
      },
      "source": [
        "gbs=df1.groupby(['sex'])['pct_tip'].count()\n",
        "plt.bar(gbs.index,gbs.values,color=\"green\")\n",
        "plt.xlabel('Sex')\n",
        "plt.show()\n",
        "print('Yes, The pct_tip differs by gender.\\nWe can see from the barchart, Male tip more than Female.')"
      ],
      "execution_count": 20,
      "outputs": [
        {
          "output_type": "display_data",
          "data": {
            "image/png": "[encoded data removed]",
            "text/plain": [
              "<Figure size 432x288 with 1 Axes>"
            ]
          },
          "metadata": {
            "tags": [],
            "needs_background": "light"
          }
        },
        {
          "output_type": "stream",
          "text": [
            "Yes, The pct_tip differs by gender.\n",
            "We can see from the barchart, Male tip more than Female.\n"
          ],
          "name": "stdout"
        }
      ]
    },
    {
      "cell_type": "markdown",
      "metadata": {
        "id": "Izx1n43YLyCl",
        "colab_type": "text"
      },
      "source": [
        "Question 14:- Does pct_tip differ by size (number of people at the table)?"
      ]
    },
    {
      "cell_type": "code",
      "metadata": {
        "id": "27StBpghL56S",
        "colab_type": "code",
        "outputId": "d6c04e75-9f92-401d-8aa6-b01c3dbed069",
        "colab": {
          "base_uri": "https://localhost:8080/",
          "height": 316
        }
      },
      "source": [
        "gbsi=df1.groupby(['size'])['pct_tip'].count()\n",
        "plt.bar(gbsi.index,gbsi.values,color=\"yellow\")\n",
        "plt.xlabel('Size')\n",
        "plt.show()\n",
        "print('Yes, The pct_tip differs by number of people at table.\\nWe can see from the barchart that pct_tip is highest when their are 2 people at the table.')"
      ],
      "execution_count": 21,
      "outputs": [
        {
          "output_type": "display_data",
          "data": {
            "image/png": "[encoded data removed]",
            "text/plain": [
              "<Figure size 432x288 with 1 Axes>"
            ]
          },
          "metadata": {
            "tags": [],
            "needs_background": "light"
          }
        },
        {
          "output_type": "stream",
          "text": [
            "Yes, The pct_tip differs by number of people at table.\n",
            "We can see from the barchart that pct_tip is highest when their are 2 people at the table.\n"
          ],
          "name": "stdout"
        }
      ]
    },
    {
      "cell_type": "markdown",
      "metadata": {
        "id": "s0ClIWF2NIxJ",
        "colab_type": "text"
      },
      "source": [
        "Question 15:- Make the gender vs. smoker view using pct_tip  - does your inference change?"
      ]
    },
    {
      "cell_type": "code",
      "metadata": {
        "id": "0XyI4N6FNRZJ",
        "colab_type": "code",
        "outputId": "e750b54a-5eb5-4e2d-ac0c-336c0e36b24d",
        "colab": {
          "base_uri": "https://localhost:8080/",
          "height": 446
        }
      },
      "source": [
        "print(round(df1.groupby(['sex','smoker'])['pct_tip'].mean().unstack(),3))\n",
        "df1.groupby(['smoker','sex'])['pct_tip'].mean().plot.bar(color=\"darkgreen\")\n",
        "plt.show()\n",
        "print('Yes, The inferance is changed.\\nAs seen in the barchart the Smoker Female group gives more average pct_tip.')"
      ],
      "execution_count": 22,
      "outputs": [
        {
          "output_type": "stream",
          "text": [
            "smoker     No    Yes\n",
            "sex                 \n",
            "Female  0.157  0.182\n",
            "Male    0.161  0.153\n"
          ],
          "name": "stdout"
        },
        {
          "output_type": "display_data",
          "data": {
            "image/png": "[encoded data removed]",
            "text/plain": [
              "<Figure size 432x288 with 1 Axes>"
            ]
          },
          "metadata": {
            "tags": [],
            "needs_background": "light"
          }
        },
        {
          "output_type": "stream",
          "text": [
            "Yes, The inferance is changed.\n",
            "As seen in the barchart the Smoker Female group gives more average pct_tip.\n"
          ],
          "name": "stdout"
        }
      ]
    },
    {
      "cell_type": "markdown",
      "metadata": {
        "id": "GlRqUveyOooj",
        "colab_type": "text"
      },
      "source": [
        "Question 16:- Make a scatter plot of total_bill vs. tip."
      ]
    },
    {
      "cell_type": "code",
      "metadata": {
        "id": "eGFdfaSxOutY",
        "colab_type": "code",
        "outputId": "ee0ff74e-a722-45ea-892a-4ce85a9b3936",
        "colab": {
          "base_uri": "https://localhost:8080/",
          "height": 295
        }
      },
      "source": [
        "plt.scatter(x='total_bill', y='tip', data = df1)\n",
        "plt.title('Total Bill vs Tip Scatter Plot')\n",
        "plt.xlabel('Total Bill')\n",
        "plt.ylabel('Tip')\n",
        "plt.show()"
      ],
      "execution_count": 23,
      "outputs": [
        {
          "output_type": "display_data",
          "data": {
            "image/png": "[encoded data removed]",
            "text/plain": [
              "<Figure size 432x288 with 1 Axes>"
            ]
          },
          "metadata": {
            "tags": [],
            "needs_background": "light"
          }
        }
      ]
    },
    {
      "cell_type": "markdown",
      "metadata": {
        "id": "g8rVdHDTPk6K",
        "colab_type": "text"
      },
      "source": [
        "Question 17:- Make a scatter plot of total_bill vs. pct_tip."
      ]
    },
    {
      "cell_type": "code",
      "metadata": {
        "id": "QgjCRUvbP9XV",
        "colab_type": "code",
        "outputId": "a6c117de-1d60-433f-b037-d28b768d5dcd",
        "colab": {
          "base_uri": "https://localhost:8080/",
          "height": 295
        }
      },
      "source": [
        "plt.scatter(x='total_bill', y='pct_tip', data = df1)\n",
        "plt.title('Total Bill vs Percent Tip Scatter Plot')\n",
        "plt.xlabel('Total Bill')\n",
        "plt.ylabel('Percent Tip')\n",
        "plt.show()"
      ],
      "execution_count": 24,
      "outputs": [
        {
          "output_type": "display_data",
          "data": {
            "image/png": "[encoded data removed]",
            "text/plain": [
              "<Figure size 432x288 with 1 Axes>"
            ]
          },
          "metadata": {
            "tags": [],
            "needs_background": "light"
          }
        }
      ]
    }
  ]
}